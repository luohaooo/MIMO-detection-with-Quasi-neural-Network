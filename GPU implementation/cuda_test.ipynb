{
 "cells": [
  {
   "cell_type": "code",
   "execution_count": 100,
   "metadata": {},
   "outputs": [
    {
     "name": "stdout",
     "output_type": "stream",
     "text": [
      "Mon Nov 20 17:50:37 2023       \n",
      "+---------------------------------------------------------------------------------------+\n",
      "| NVIDIA-SMI 546.12                 Driver Version: 546.12       CUDA Version: 12.3     |\n",
      "|-----------------------------------------+----------------------+----------------------+\n",
      "| GPU  Name                     TCC/WDDM  | Bus-Id        Disp.A | Volatile Uncorr. ECC |\n",
      "| Fan  Temp   Perf          Pwr:Usage/Cap |         Memory-Usage | GPU-Util  Compute M. |\n",
      "|                                         |                      |               MIG M. |\n",
      "|=========================================+======================+======================|\n",
      "|   0  NVIDIA GeForce RTX 2060      WDDM  | 00000000:01:00.0  On |                  N/A |\n",
      "| 44%   28C    P8              12W / 184W |    708MiB / 12288MiB |     13%      Default |\n",
      "|                                         |                      |                  N/A |\n",
      "+-----------------------------------------+----------------------+----------------------+\n",
      "                                                                                         \n",
      "+---------------------------------------------------------------------------------------+\n",
      "| Processes:                                                                            |\n",
      "|  GPU   GI   CI        PID   Type   Process name                            GPU Memory |\n",
      "|        ID   ID                                                             Usage      |\n",
      "|=======================================================================================|\n",
      "|    0   N/A  N/A      2172    C+G   ...ekyb3d8bbwe\\PhoneExperienceHost.exe    N/A      |\n",
      "|    0   N/A  N/A      6856    C+G   ....Search_cw5n1h2txyewy\\SearchApp.exe    N/A      |\n",
      "|    0   N/A  N/A      6928    C+G   C:\\Windows\\explorer.exe                   N/A      |\n",
      "|    0   N/A  N/A      7828    C+G   ....Search_cw5n1h2txyewy\\SearchApp.exe    N/A      |\n",
      "|    0   N/A  N/A      8364    C+G   ...5n1h2txyewy\\ShellExperienceHost.exe    N/A      |\n",
      "|    0   N/A  N/A      8900    C+G   ...CBS_cw5n1h2txyewy\\TextInputHost.exe    N/A      |\n",
      "|    0   N/A  N/A      9396    C+G   D:\\Programs Files\\ToDesk\\ToDesk.exe       N/A      |\n",
      "|    0   N/A  N/A      9748    C+G   ...Programs\\Microsoft VS Code\\Code.exe    N/A      |\n",
      "|    0   N/A  N/A     13260    C+G   ...ogram Files (x86)\\Zotero\\zotero.exe    N/A      |\n",
      "|    0   N/A  N/A     14864    C+G   ...siveControlPanel\\SystemSettings.exe    N/A      |\n",
      "|    0   N/A  N/A     14996    C+G   ...1\\extracted\\runtime\\WeChatAppEx.exe    N/A      |\n",
      "|    0   N/A  N/A     16124    C+G   C:\\Program Files\\QQ\\QQ.exe                N/A      |\n",
      "|    0   N/A  N/A     16156    C+G   ...t.LockApp_cw5n1h2txyewy\\LockApp.exe    N/A      |\n",
      "|    0   N/A  N/A     17132    C+G   ...\\cef\\cef.win7x64\\steamwebhelper.exe    N/A      |\n",
      "|    0   N/A  N/A     17496    C+G   ...crosoft\\Edge\\Application\\msedge.exe    N/A      |\n",
      "|    0   N/A  N/A     18808    C+G   ...les\\Microsoft OneDrive\\OneDrive.exe    N/A      |\n",
      "|    0   N/A  N/A     18812    C+G   ...ic\\QQMusic1942.13.40.46\\QQMusic.exe    N/A      |\n",
      "+---------------------------------------------------------------------------------------+\n"
     ]
    }
   ],
   "source": [
    "!nvidia-smi"
   ]
  },
  {
   "cell_type": "code",
   "execution_count": 101,
   "metadata": {},
   "outputs": [],
   "source": [
    "import numpy as np \n",
    "import random\n",
    "from scipy.optimize import minimize\n",
    "from sphere_decoding.sphereDecodingUseC import sphere_decoding_BER\n",
    "from numba import cuda, jit"
   ]
  },
  {
   "cell_type": "code",
   "execution_count": 111,
   "metadata": {},
   "outputs": [
    {
     "name": "stdout",
     "output_type": "stream",
     "text": [
      "4.94 µs ± 38.7 ns per loop (mean ± std. dev. of 7 runs, 100,000 loops each)\n"
     ]
    }
   ],
   "source": [
    "@jit(nopython=True)\n",
    "def generate_random_bit_sequence(length):\n",
    "    x = np.ones(length)\n",
    "    for ii in range(length):\n",
    "        x[ii] = round(np.random.random())\n",
    "    return x\n",
    "\n",
    "%timeit generate_random_bit_sequence(1024)\n"
   ]
  },
  {
   "cell_type": "code",
   "execution_count": 128,
   "metadata": {},
   "outputs": [
    {
     "ename": "TypingError",
     "evalue": "Failed in nopython mode pipeline (step: nopython frontend)\n\u001b[1m\u001b[1mNo implementation of function Function(<built-in function getitem>) found for signature:\n \n >>> getitem(array(complex128, 1d, C), float64)\n \nThere are 22 candidate implementations:\n\u001b[1m      - Of which 20 did not match due to:\n      Overload of function 'getitem': File: <numerous>: Line N/A.\n        With argument(s): '(array(complex128, 1d, C), float64)':\u001b[0m\n\u001b[1m       No match.\u001b[0m\n\u001b[1m      - Of which 2 did not match due to:\n      Overload in function 'GetItemBuffer.generic': File: numba\\core\\typing\\arraydecl.py: Line 209.\n        With argument(s): '(array(complex128, 1d, C), float64)':\u001b[0m\n\u001b[1m       Rejected as the implementation raised a specific error:\n         NumbaTypeError: \u001b[1mUnsupported array index type float64 in [float64]\u001b[0m\u001b[0m\n  raised from d:\\Software\\Anaconda\\envs\\qnn\\Lib\\site-packages\\numba\\core\\typing\\arraydecl.py:102\n\u001b[0m\n\u001b[0m\u001b[1mDuring: typing of intrinsic-call at C:\\Users\\WenKai\\AppData\\Local\\Temp\\ipykernel_12612\\3817671768.py (6)\u001b[0m\n\u001b[1m\nFile \"..\\..\\..\\AppData\\Local\\Temp\\ipykernel_12612\\3817671768.py\", line 6:\u001b[0m\n\u001b[1m<source missing, REPL/exec in use?>\u001b[0m\n",
     "output_type": "error",
     "traceback": [
      "\u001b[1;31m---------------------------------------------------------------------------\u001b[0m",
      "\u001b[1;31mTypingError\u001b[0m                               Traceback (most recent call last)",
      "\u001b[1;32mc:\\Users\\WenKai\\Desktop\\拟神经网络\\MIMO-detection-with-Quasi-neural-Network\\cuda_test.ipynb Cell 4\u001b[0m line \u001b[0;36m8\n\u001b[0;32m      <a href='vscode-notebook-cell:/c%3A/Users/WenKai/Desktop/%E6%8B%9F%E7%A5%9E%E7%BB%8F%E7%BD%91%E7%BB%9C/MIMO-detection-with-Quasi-neural-Network/cuda_test.ipynb#W3sZmlsZQ%3D%3D?line=4'>5</a>\u001b[0m     mapping \u001b[39m=\u001b[39m np\u001b[39m.\u001b[39marray([(\u001b[39m1\u001b[39m\u001b[39m+\u001b[39m\u001b[39m1\u001b[39mj),(\u001b[39m1\u001b[39m\u001b[39m+\u001b[39m\u001b[39m3\u001b[39mj),(\u001b[39m3\u001b[39m\u001b[39m+\u001b[39m\u001b[39m1\u001b[39mj),(\u001b[39m3\u001b[39m\u001b[39m+\u001b[39m\u001b[39m3\u001b[39mj),(\u001b[39m1\u001b[39m\u001b[39m-\u001b[39m\u001b[39m1\u001b[39mj),(\u001b[39m1\u001b[39m\u001b[39m-\u001b[39m\u001b[39m3\u001b[39mj),(\u001b[39m3\u001b[39m\u001b[39m-\u001b[39m\u001b[39m1\u001b[39mj),(\u001b[39m3\u001b[39m\u001b[39m-\u001b[39m\u001b[39m3\u001b[39mj),(\u001b[39m-\u001b[39m\u001b[39m1\u001b[39m\u001b[39m+\u001b[39m\u001b[39m1\u001b[39mj),(\u001b[39m-\u001b[39m\u001b[39m1\u001b[39m\u001b[39m+\u001b[39m\u001b[39m3\u001b[39mj),(\u001b[39m-\u001b[39m\u001b[39m3\u001b[39m\u001b[39m+\u001b[39m\u001b[39m1\u001b[39mj),(\u001b[39m-\u001b[39m\u001b[39m3\u001b[39m\u001b[39m+\u001b[39m\u001b[39m3\u001b[39mj),(\u001b[39m-\u001b[39m\u001b[39m1\u001b[39m\u001b[39m-\u001b[39m\u001b[39m1\u001b[39mj),(\u001b[39m-\u001b[39m\u001b[39m1\u001b[39m\u001b[39m-\u001b[39m\u001b[39m3\u001b[39mj),(\u001b[39m-\u001b[39m\u001b[39m3\u001b[39m\u001b[39m-\u001b[39m\u001b[39m1\u001b[39mj),(\u001b[39m-\u001b[39m\u001b[39m3\u001b[39m\u001b[39m-\u001b[39m\u001b[39m3\u001b[39mj)])\n\u001b[0;32m      <a href='vscode-notebook-cell:/c%3A/Users/WenKai/Desktop/%E6%8B%9F%E7%A5%9E%E7%BB%8F%E7%BD%91%E7%BB%9C/MIMO-detection-with-Quasi-neural-Network/cuda_test.ipynb#W3sZmlsZQ%3D%3D?line=5'>6</a>\u001b[0m     \u001b[39mreturn\u001b[39;00m mapping[np\u001b[39m.\u001b[39mround(index)]\u001b[39m/\u001b[39mnp\u001b[39m.\u001b[39msqrt(\u001b[39m10\u001b[39m)\n\u001b[1;32m----> <a href='vscode-notebook-cell:/c%3A/Users/WenKai/Desktop/%E6%8B%9F%E7%A5%9E%E7%BB%8F%E7%BD%91%E7%BB%9C/MIMO-detection-with-Quasi-neural-Network/cuda_test.ipynb#W3sZmlsZQ%3D%3D?line=7'>8</a>\u001b[0m qam16_modulation(np\u001b[39m.\u001b[39marray([\u001b[39m1\u001b[39m,\u001b[39m1\u001b[39m,\u001b[39m1\u001b[39m,\u001b[39m1\u001b[39m],dtype\u001b[39m=\u001b[39mnp\u001b[39m.\u001b[39mfloat32))\n",
      "File \u001b[1;32md:\\Software\\Anaconda\\envs\\qnn\\Lib\\site-packages\\numba\\core\\dispatcher.py:468\u001b[0m, in \u001b[0;36m_DispatcherBase._compile_for_args\u001b[1;34m(self, *args, **kws)\u001b[0m\n\u001b[0;32m    464\u001b[0m         msg \u001b[39m=\u001b[39m (\u001b[39mf\u001b[39m\u001b[39m\"\u001b[39m\u001b[39m{\u001b[39;00m\u001b[39mstr\u001b[39m(e)\u001b[39m.\u001b[39mrstrip()\u001b[39m}\u001b[39;00m\u001b[39m \u001b[39m\u001b[39m\\n\u001b[39;00m\u001b[39m\\n\u001b[39;00m\u001b[39mThis error may have been caused \u001b[39m\u001b[39m\"\u001b[39m\n\u001b[0;32m    465\u001b[0m                \u001b[39mf\u001b[39m\u001b[39m\"\u001b[39m\u001b[39mby the following argument(s):\u001b[39m\u001b[39m\\n\u001b[39;00m\u001b[39m{\u001b[39;00margs_str\u001b[39m}\u001b[39;00m\u001b[39m\\n\u001b[39;00m\u001b[39m\"\u001b[39m)\n\u001b[0;32m    466\u001b[0m         e\u001b[39m.\u001b[39mpatch_message(msg)\n\u001b[1;32m--> 468\u001b[0m     error_rewrite(e, \u001b[39m'\u001b[39m\u001b[39mtyping\u001b[39m\u001b[39m'\u001b[39m)\n\u001b[0;32m    469\u001b[0m \u001b[39mexcept\u001b[39;00m errors\u001b[39m.\u001b[39mUnsupportedError \u001b[39mas\u001b[39;00m e:\n\u001b[0;32m    470\u001b[0m     \u001b[39m# Something unsupported is present in the user code, add help info\u001b[39;00m\n\u001b[0;32m    471\u001b[0m     error_rewrite(e, \u001b[39m'\u001b[39m\u001b[39munsupported_error\u001b[39m\u001b[39m'\u001b[39m)\n",
      "File \u001b[1;32md:\\Software\\Anaconda\\envs\\qnn\\Lib\\site-packages\\numba\\core\\dispatcher.py:409\u001b[0m, in \u001b[0;36m_DispatcherBase._compile_for_args.<locals>.error_rewrite\u001b[1;34m(e, issue_type)\u001b[0m\n\u001b[0;32m    407\u001b[0m     \u001b[39mraise\u001b[39;00m e\n\u001b[0;32m    408\u001b[0m \u001b[39melse\u001b[39;00m:\n\u001b[1;32m--> 409\u001b[0m     \u001b[39mraise\u001b[39;00m e\u001b[39m.\u001b[39mwith_traceback(\u001b[39mNone\u001b[39;00m)\n",
      "\u001b[1;31mTypingError\u001b[0m: Failed in nopython mode pipeline (step: nopython frontend)\n\u001b[1m\u001b[1mNo implementation of function Function(<built-in function getitem>) found for signature:\n \n >>> getitem(array(complex128, 1d, C), float64)\n \nThere are 22 candidate implementations:\n\u001b[1m      - Of which 20 did not match due to:\n      Overload of function 'getitem': File: <numerous>: Line N/A.\n        With argument(s): '(array(complex128, 1d, C), float64)':\u001b[0m\n\u001b[1m       No match.\u001b[0m\n\u001b[1m      - Of which 2 did not match due to:\n      Overload in function 'GetItemBuffer.generic': File: numba\\core\\typing\\arraydecl.py: Line 209.\n        With argument(s): '(array(complex128, 1d, C), float64)':\u001b[0m\n\u001b[1m       Rejected as the implementation raised a specific error:\n         NumbaTypeError: \u001b[1mUnsupported array index type float64 in [float64]\u001b[0m\u001b[0m\n  raised from d:\\Software\\Anaconda\\envs\\qnn\\Lib\\site-packages\\numba\\core\\typing\\arraydecl.py:102\n\u001b[0m\n\u001b[0m\u001b[1mDuring: typing of intrinsic-call at C:\\Users\\WenKai\\AppData\\Local\\Temp\\ipykernel_12612\\3817671768.py (6)\u001b[0m\n\u001b[1m\nFile \"..\\..\\..\\AppData\\Local\\Temp\\ipykernel_12612\\3817671768.py\", line 6:\u001b[0m\n\u001b[1m<source missing, REPL/exec in use?>\u001b[0m\n"
     ]
    }
   ],
   "source": [
    "@jit(nopython=True)\n",
    "def qam16_modulation(binary_input):\n",
    "    x = np.array([8,4,2,1],dtype=np.float32)\n",
    "    index =  np.dot(binary_input, x)   \n",
    "    mapping = np.array([(1+1j),(1+3j),(3+1j),(3+3j),(1-1j),(1-3j),(3-1j),(3-3j),(-1+1j),(-1+3j),(-3+1j),(-3+3j),(-1-1j),(-1-3j),(-3-1j),(-3-3j)])\n",
    "    return mapping[np.round(index)]/np.sqrt(10)\n",
    "\n",
    "qam16_modulation(np.array([1,1,1,1],dtype=np.float32)) "
   ]
  },
  {
   "cell_type": "code",
   "execution_count": 115,
   "metadata": {},
   "outputs": [
    {
     "ename": "TypingError",
     "evalue": "Failed in nopython mode pipeline (step: nopython frontend)\n\u001b[1mUntyped global name 'qam16_modulation':\u001b[0m \u001b[1m\u001b[1mCannot determine Numba type of <class 'function'>\u001b[0m\n\u001b[1m\nFile \"..\\..\\..\\AppData\\Local\\Temp\\ipykernel_12612\\181705542.py\", line 6:\u001b[0m\n\u001b[1m<source missing, REPL/exec in use?>\u001b[0m\n\u001b[0m",
     "output_type": "error",
     "traceback": [
      "\u001b[1;31m---------------------------------------------------------------------------\u001b[0m",
      "\u001b[1;31mTypingError\u001b[0m                               Traceback (most recent call last)",
      "\u001b[1;32mc:\\Users\\WenKai\\Desktop\\拟神经网络\\MIMO-detection-with-Quasi-neural-Network\\cuda_test.ipynb Cell 5\u001b[0m line \u001b[0;36m8\n\u001b[0;32m      <a href='vscode-notebook-cell:/c%3A/Users/WenKai/Desktop/%E6%8B%9F%E7%A5%9E%E7%BB%8F%E7%BD%91%E7%BB%9C/MIMO-detection-with-Quasi-neural-Network/cuda_test.ipynb#W4sZmlsZQ%3D%3D?line=5'>6</a>\u001b[0m         x_sequence[ii] \u001b[39m=\u001b[39m qam16_modulation(total_bits_sequence[\u001b[39m4\u001b[39m\u001b[39m*\u001b[39mii:\u001b[39m4\u001b[39m\u001b[39m*\u001b[39mii\u001b[39m+\u001b[39m\u001b[39m4\u001b[39m])\n\u001b[0;32m      <a href='vscode-notebook-cell:/c%3A/Users/WenKai/Desktop/%E6%8B%9F%E7%A5%9E%E7%BB%8F%E7%BD%91%E7%BB%9C/MIMO-detection-with-Quasi-neural-Network/cuda_test.ipynb#W4sZmlsZQ%3D%3D?line=6'>7</a>\u001b[0m     \u001b[39mreturn\u001b[39;00m x_sequence\n\u001b[1;32m----> <a href='vscode-notebook-cell:/c%3A/Users/WenKai/Desktop/%E6%8B%9F%E7%A5%9E%E7%BB%8F%E7%BD%91%E7%BB%9C/MIMO-detection-with-Quasi-neural-Network/cuda_test.ipynb#W4sZmlsZQ%3D%3D?line=7'>8</a>\u001b[0m generate_x_sequence(\u001b[39m10\u001b[39m, \u001b[39m2\u001b[39m)\n",
      "File \u001b[1;32md:\\Software\\Anaconda\\envs\\qnn\\Lib\\site-packages\\numba\\core\\dispatcher.py:468\u001b[0m, in \u001b[0;36m_DispatcherBase._compile_for_args\u001b[1;34m(self, *args, **kws)\u001b[0m\n\u001b[0;32m    464\u001b[0m         msg \u001b[39m=\u001b[39m (\u001b[39mf\u001b[39m\u001b[39m\"\u001b[39m\u001b[39m{\u001b[39;00m\u001b[39mstr\u001b[39m(e)\u001b[39m.\u001b[39mrstrip()\u001b[39m}\u001b[39;00m\u001b[39m \u001b[39m\u001b[39m\\n\u001b[39;00m\u001b[39m\\n\u001b[39;00m\u001b[39mThis error may have been caused \u001b[39m\u001b[39m\"\u001b[39m\n\u001b[0;32m    465\u001b[0m                \u001b[39mf\u001b[39m\u001b[39m\"\u001b[39m\u001b[39mby the following argument(s):\u001b[39m\u001b[39m\\n\u001b[39;00m\u001b[39m{\u001b[39;00margs_str\u001b[39m}\u001b[39;00m\u001b[39m\\n\u001b[39;00m\u001b[39m\"\u001b[39m)\n\u001b[0;32m    466\u001b[0m         e\u001b[39m.\u001b[39mpatch_message(msg)\n\u001b[1;32m--> 468\u001b[0m     error_rewrite(e, \u001b[39m'\u001b[39m\u001b[39mtyping\u001b[39m\u001b[39m'\u001b[39m)\n\u001b[0;32m    469\u001b[0m \u001b[39mexcept\u001b[39;00m errors\u001b[39m.\u001b[39mUnsupportedError \u001b[39mas\u001b[39;00m e:\n\u001b[0;32m    470\u001b[0m     \u001b[39m# Something unsupported is present in the user code, add help info\u001b[39;00m\n\u001b[0;32m    471\u001b[0m     error_rewrite(e, \u001b[39m'\u001b[39m\u001b[39munsupported_error\u001b[39m\u001b[39m'\u001b[39m)\n",
      "File \u001b[1;32md:\\Software\\Anaconda\\envs\\qnn\\Lib\\site-packages\\numba\\core\\dispatcher.py:409\u001b[0m, in \u001b[0;36m_DispatcherBase._compile_for_args.<locals>.error_rewrite\u001b[1;34m(e, issue_type)\u001b[0m\n\u001b[0;32m    407\u001b[0m     \u001b[39mraise\u001b[39;00m e\n\u001b[0;32m    408\u001b[0m \u001b[39melse\u001b[39;00m:\n\u001b[1;32m--> 409\u001b[0m     \u001b[39mraise\u001b[39;00m e\u001b[39m.\u001b[39mwith_traceback(\u001b[39mNone\u001b[39;00m)\n",
      "\u001b[1;31mTypingError\u001b[0m: Failed in nopython mode pipeline (step: nopython frontend)\n\u001b[1mUntyped global name 'qam16_modulation':\u001b[0m \u001b[1m\u001b[1mCannot determine Numba type of <class 'function'>\u001b[0m\n\u001b[1m\nFile \"..\\..\\..\\AppData\\Local\\Temp\\ipykernel_12612\\181705542.py\", line 6:\u001b[0m\n\u001b[1m<source missing, REPL/exec in use?>\u001b[0m\n\u001b[0m"
     ]
    }
   ],
   "source": [
    "@jit(nopython=True)\n",
    "def generate_x_sequence(length, Nt):\n",
    "    total_bits_sequence = generate_random_bit_sequence(length*Nt*4)\n",
    "    x_sequence = np.zeros(length*Nt).astype(np.complex128)\n",
    "    for ii in range(length*Nt):\n",
    "        x_sequence[ii] = qam16_modulation(total_bits_sequence[4*ii:4*ii+4])\n",
    "    return x_sequence\n",
    "generate_x_sequence(10, 2)"
   ]
  },
  {
   "cell_type": "code",
   "execution_count": 183,
   "metadata": {},
   "outputs": [
    {
     "name": "stdout",
     "output_type": "stream",
     "text": [
      "CPU times: total: 0 ns\n",
      "Wall time: 5 ms\n"
     ]
    }
   ],
   "source": [
    "H = np.random.randn(4,2)+1j*np.random.randn(4,2)\n",
    "y = np.array([1,1,1,1],dtype=np.complex128).reshape(4,1)\n",
    "Nt = 2\n",
    "Nr = 4\n",
    "def bits2signals(bits):\n",
    "    # bits: input binary string with length of (4*Nt) \n",
    "    return np.array([qam16_modulation(bits[i:i+4]) for i in range(0, len(bits), 4)]).reshape(Nt,1)\n",
    "def qam16_modulation(binary_input):\n",
    "    mapping = {\n",
    "        '0000': (1+1j),\n",
    "        '0001': (1+3j),\n",
    "        '0010': (3+1j),\n",
    "        '0011': (3+3j),\n",
    "        '0100': (1-1j),\n",
    "        '0101': (1-3j),\n",
    "        '0110': (3-1j),\n",
    "        '0111': (3-3j),\n",
    "        '1000': (-1+1j),\n",
    "        '1001': (-1+3j),\n",
    "        '1010': (-3+1j),\n",
    "        '1011': (-3+3j),\n",
    "        '1100': (-1-1j),\n",
    "        '1101': (-1-3j),\n",
    "        '1110': (-3-1j),\n",
    "        '1111': (-3-3j)\n",
    "    }\n",
    "    return mapping.get(binary_input, \"Invalid binary input\")/np.sqrt(10)\n",
    "\n",
    "\n",
    "def calculate_layer1(H_hat, y):\n",
    "    dimension_layer1 = 2**(4*Nt)\n",
    "    output = {}\n",
    "    for index in range(dimension_layer1):\n",
    "        bits = str(bin(index)[2:].zfill(4*Nt))\n",
    "        s = bits2signals(bits)\n",
    "        error = y - np.dot(H_hat,s)\n",
    "        value =  np.exp(-np.square(np.linalg.norm(error)))\n",
    "        output[bits] = value\n",
    "    return output\n",
    "\n",
    "\n",
    "\n",
    "\n",
    "%time output1 = calculate_layer1(H, y)\n",
    "\n"
   ]
  },
  {
   "cell_type": "code",
   "execution_count": 187,
   "metadata": {},
   "outputs": [
    {
     "name": "stderr",
     "output_type": "stream",
     "text": [
      "C:\\Users\\WenKai\\AppData\\Local\\Temp\\ipykernel_12612\\3858807461.py:23: NumbaPendingDeprecationWarning: \u001b[1m\u001b[1mCode using Numba extension API maybe depending on 'old_style' error-capturing, which is deprecated and will be replaced by 'new_style' in a future release. See details at https://numba.readthedocs.io/en/latest/reference/deprecation.html#deprecation-of-old-style-numba-captured-errors\n",
      "Exception origin:\n",
      "  File \"d:\\Software\\Anaconda\\envs\\qnn\\Lib\\site-packages\\numba\\core\\untyped_passes.py\", line 125, in run_pass\n",
      "    raise TypeError(\"Signature mismatch: %d argument types given, \"\n",
      "\u001b[0m\u001b[0m\n",
      "  x = np.array([8,4,2,1],dtype=np.float32)\n",
      "C:\\Users\\WenKai\\AppData\\Local\\Temp\\ipykernel_12612\\3858807461.py:25: NumbaPendingDeprecationWarning: \u001b[1m\u001b[1mCode using Numba extension API maybe depending on 'old_style' error-capturing, which is deprecated and will be replaced by 'new_style' in a future release. See details at https://numba.readthedocs.io/en/latest/reference/deprecation.html#deprecation-of-old-style-numba-captured-errors\n",
      "Exception origin:\n",
      "  File \"d:\\Software\\Anaconda\\envs\\qnn\\Lib\\site-packages\\numba\\core\\untyped_passes.py\", line 125, in run_pass\n",
      "    raise TypeError(\"Signature mismatch: %d argument types given, \"\n",
      "\u001b[0m\u001b[0m\n",
      "  mapping = np.array([(1+1j),(1+3j),(3+1j),(3+3j),(1-1j),(1-3j),(3-1j),(3-3j),(-1+1j),(-1+3j),(-3+1j),(-3+3j),(-1-1j),(-1-3j),(-3-1j),(-3-3j)])\n"
     ]
    },
    {
     "ename": "TypingError",
     "evalue": "Failed in cuda mode pipeline (step: nopython frontend)\n\u001b[1m\u001b[1m\u001b[1mNo implementation of function Function(<built-in function array>) found for signature:\n \n >>> array(list(int64)<iv=[8, 4, 2, 1]>, dtype=class(float32))\n \nThere are 2 candidate implementations:\n\u001b[1m   - Of which 2 did not match due to:\n   Overload in function 'impl_np_array': File: numba\\np\\arrayobj.py: Line 5384.\n     With argument(s): '(list(int64)<iv=None>, dtype=class(float32))':\u001b[0m\n\u001b[1m    Rejected as the implementation raised a specific error:\n      TypeError: Failed in cuda mode pipeline (step: fix up args)\n    Signature mismatch: 1 argument types given, but function takes 2 arguments\u001b[0m\n  raised from d:\\Software\\Anaconda\\envs\\qnn\\Lib\\site-packages\\numba\\core\\untyped_passes.py:125\n\u001b[0m\n\u001b[0m\u001b[1mDuring: resolving callee type: Function(<built-in function array>)\u001b[0m\n\u001b[0m\u001b[1mDuring: typing of call at C:\\Users\\WenKai\\AppData\\Local\\Temp\\ipykernel_12612\\3858807461.py (23)\n\u001b[0m\n\u001b[1m\nFile \"..\\..\\..\\AppData\\Local\\Temp\\ipykernel_12612\\3858807461.py\", line 23:\u001b[0m\n\u001b[1m<source missing, REPL/exec in use?>\u001b[0m\n",
     "output_type": "error",
     "traceback": [
      "\u001b[1;31m---------------------------------------------------------------------------\u001b[0m",
      "\u001b[1;31mTypingError\u001b[0m                               Traceback (most recent call last)",
      "\u001b[1;32mc:\\Users\\WenKai\\Desktop\\拟神经网络\\MIMO-detection-with-Quasi-neural-Network\\cuda_test.ipynb Cell 7\u001b[0m line \u001b[0;36m2\n\u001b[0;32m     <a href='vscode-notebook-cell:/c%3A/Users/WenKai/Desktop/%E6%8B%9F%E7%A5%9E%E7%BB%8F%E7%BD%91%E7%BB%9C/MIMO-detection-with-Quasi-neural-Network/cuda_test.ipynb#X11sZmlsZQ%3D%3D?line=24'>25</a>\u001b[0m     mapping \u001b[39m=\u001b[39m np\u001b[39m.\u001b[39marray([(\u001b[39m1\u001b[39m\u001b[39m+\u001b[39m\u001b[39m1\u001b[39mj),(\u001b[39m1\u001b[39m\u001b[39m+\u001b[39m\u001b[39m3\u001b[39mj),(\u001b[39m3\u001b[39m\u001b[39m+\u001b[39m\u001b[39m1\u001b[39mj),(\u001b[39m3\u001b[39m\u001b[39m+\u001b[39m\u001b[39m3\u001b[39mj),(\u001b[39m1\u001b[39m\u001b[39m-\u001b[39m\u001b[39m1\u001b[39mj),(\u001b[39m1\u001b[39m\u001b[39m-\u001b[39m\u001b[39m3\u001b[39mj),(\u001b[39m3\u001b[39m\u001b[39m-\u001b[39m\u001b[39m1\u001b[39mj),(\u001b[39m3\u001b[39m\u001b[39m-\u001b[39m\u001b[39m3\u001b[39mj),(\u001b[39m-\u001b[39m\u001b[39m1\u001b[39m\u001b[39m+\u001b[39m\u001b[39m1\u001b[39mj),(\u001b[39m-\u001b[39m\u001b[39m1\u001b[39m\u001b[39m+\u001b[39m\u001b[39m3\u001b[39mj),(\u001b[39m-\u001b[39m\u001b[39m3\u001b[39m\u001b[39m+\u001b[39m\u001b[39m1\u001b[39mj),(\u001b[39m-\u001b[39m\u001b[39m3\u001b[39m\u001b[39m+\u001b[39m\u001b[39m3\u001b[39mj),(\u001b[39m-\u001b[39m\u001b[39m1\u001b[39m\u001b[39m-\u001b[39m\u001b[39m1\u001b[39mj),(\u001b[39m-\u001b[39m\u001b[39m1\u001b[39m\u001b[39m-\u001b[39m\u001b[39m3\u001b[39mj),(\u001b[39m-\u001b[39m\u001b[39m3\u001b[39m\u001b[39m-\u001b[39m\u001b[39m1\u001b[39mj),(\u001b[39m-\u001b[39m\u001b[39m3\u001b[39m\u001b[39m-\u001b[39m\u001b[39m3\u001b[39mj)])\n\u001b[0;32m     <a href='vscode-notebook-cell:/c%3A/Users/WenKai/Desktop/%E6%8B%9F%E7%A5%9E%E7%BB%8F%E7%BD%91%E7%BB%9C/MIMO-detection-with-Quasi-neural-Network/cuda_test.ipynb#X11sZmlsZQ%3D%3D?line=25'>26</a>\u001b[0m     \u001b[39mreturn\u001b[39;00m mapping[np\u001b[39m.\u001b[39mround(index)]\u001b[39m/\u001b[39mnp\u001b[39m.\u001b[39msqrt(\u001b[39m10\u001b[39m)\n\u001b[1;32m---> <a href='vscode-notebook-cell:/c%3A/Users/WenKai/Desktop/%E6%8B%9F%E7%A5%9E%E7%BB%8F%E7%BD%91%E7%BB%9C/MIMO-detection-with-Quasi-neural-Network/cuda_test.ipynb#X11sZmlsZQ%3D%3D?line=27'>28</a>\u001b[0m qam16_modulation[\u001b[39m1\u001b[39m,\u001b[39m1\u001b[39m](np\u001b[39m.\u001b[39marray([\u001b[39m1\u001b[39m,\u001b[39m1\u001b[39m,\u001b[39m1\u001b[39m,\u001b[39m1\u001b[39m],dtype\u001b[39m=\u001b[39mnp\u001b[39m.\u001b[39mfloat32))\n",
      "File \u001b[1;32md:\\Software\\Anaconda\\envs\\qnn\\Lib\\site-packages\\numba\\cuda\\dispatcher.py:539\u001b[0m, in \u001b[0;36m_LaunchConfiguration.__call__\u001b[1;34m(self, *args)\u001b[0m\n\u001b[0;32m    538\u001b[0m \u001b[39mdef\u001b[39;00m \u001b[39m__call__\u001b[39m(\u001b[39mself\u001b[39m, \u001b[39m*\u001b[39margs):\n\u001b[1;32m--> 539\u001b[0m     \u001b[39mreturn\u001b[39;00m \u001b[39mself\u001b[39m\u001b[39m.\u001b[39mdispatcher\u001b[39m.\u001b[39mcall(args, \u001b[39mself\u001b[39m\u001b[39m.\u001b[39mgriddim, \u001b[39mself\u001b[39m\u001b[39m.\u001b[39mblockdim,\n\u001b[0;32m    540\u001b[0m                                 \u001b[39mself\u001b[39m\u001b[39m.\u001b[39mstream, \u001b[39mself\u001b[39m\u001b[39m.\u001b[39msharedmem)\n",
      "File \u001b[1;32md:\\Software\\Anaconda\\envs\\qnn\\Lib\\site-packages\\numba\\cuda\\dispatcher.py:673\u001b[0m, in \u001b[0;36mCUDADispatcher.call\u001b[1;34m(self, args, griddim, blockdim, stream, sharedmem)\u001b[0m\n\u001b[0;32m    671\u001b[0m     kernel \u001b[39m=\u001b[39m \u001b[39mnext\u001b[39m(\u001b[39miter\u001b[39m(\u001b[39mself\u001b[39m\u001b[39m.\u001b[39moverloads\u001b[39m.\u001b[39mvalues()))\n\u001b[0;32m    672\u001b[0m \u001b[39melse\u001b[39;00m:\n\u001b[1;32m--> 673\u001b[0m     kernel \u001b[39m=\u001b[39m _dispatcher\u001b[39m.\u001b[39mDispatcher\u001b[39m.\u001b[39m_cuda_call(\u001b[39mself\u001b[39m, \u001b[39m*\u001b[39margs)\n\u001b[0;32m    675\u001b[0m kernel\u001b[39m.\u001b[39mlaunch(args, griddim, blockdim, stream, sharedmem)\n",
      "File \u001b[1;32md:\\Software\\Anaconda\\envs\\qnn\\Lib\\site-packages\\numba\\cuda\\dispatcher.py:681\u001b[0m, in \u001b[0;36mCUDADispatcher._compile_for_args\u001b[1;34m(self, *args, **kws)\u001b[0m\n\u001b[0;32m    679\u001b[0m \u001b[39massert\u001b[39;00m \u001b[39mnot\u001b[39;00m kws\n\u001b[0;32m    680\u001b[0m argtypes \u001b[39m=\u001b[39m [\u001b[39mself\u001b[39m\u001b[39m.\u001b[39mtypeof_pyval(a) \u001b[39mfor\u001b[39;00m a \u001b[39min\u001b[39;00m args]\n\u001b[1;32m--> 681\u001b[0m \u001b[39mreturn\u001b[39;00m \u001b[39mself\u001b[39m\u001b[39m.\u001b[39mcompile(\u001b[39mtuple\u001b[39m(argtypes))\n",
      "File \u001b[1;32md:\\Software\\Anaconda\\envs\\qnn\\Lib\\site-packages\\numba\\cuda\\dispatcher.py:924\u001b[0m, in \u001b[0;36mCUDADispatcher.compile\u001b[1;34m(self, sig)\u001b[0m\n\u001b[0;32m    921\u001b[0m \u001b[39mif\u001b[39;00m \u001b[39mnot\u001b[39;00m \u001b[39mself\u001b[39m\u001b[39m.\u001b[39m_can_compile:\n\u001b[0;32m    922\u001b[0m     \u001b[39mraise\u001b[39;00m \u001b[39mRuntimeError\u001b[39;00m(\u001b[39m\"\u001b[39m\u001b[39mCompilation disabled\u001b[39m\u001b[39m\"\u001b[39m)\n\u001b[1;32m--> 924\u001b[0m kernel \u001b[39m=\u001b[39m _Kernel(\u001b[39mself\u001b[39m\u001b[39m.\u001b[39mpy_func, argtypes, \u001b[39m*\u001b[39m\u001b[39m*\u001b[39m\u001b[39mself\u001b[39m\u001b[39m.\u001b[39mtargetoptions)\n\u001b[0;32m    925\u001b[0m \u001b[39m# We call bind to force codegen, so that there is a cubin to cache\u001b[39;00m\n\u001b[0;32m    926\u001b[0m kernel\u001b[39m.\u001b[39mbind()\n",
      "File \u001b[1;32md:\\Software\\Anaconda\\envs\\qnn\\Lib\\site-packages\\numba\\core\\compiler_lock.py:35\u001b[0m, in \u001b[0;36m_CompilerLock.__call__.<locals>._acquire_compile_lock\u001b[1;34m(*args, **kwargs)\u001b[0m\n\u001b[0;32m     32\u001b[0m \u001b[39m@functools\u001b[39m\u001b[39m.\u001b[39mwraps(func)\n\u001b[0;32m     33\u001b[0m \u001b[39mdef\u001b[39;00m \u001b[39m_acquire_compile_lock\u001b[39m(\u001b[39m*\u001b[39margs, \u001b[39m*\u001b[39m\u001b[39m*\u001b[39mkwargs):\n\u001b[0;32m     34\u001b[0m     \u001b[39mwith\u001b[39;00m \u001b[39mself\u001b[39m:\n\u001b[1;32m---> 35\u001b[0m         \u001b[39mreturn\u001b[39;00m func(\u001b[39m*\u001b[39margs, \u001b[39m*\u001b[39m\u001b[39m*\u001b[39mkwargs)\n",
      "File \u001b[1;32md:\\Software\\Anaconda\\envs\\qnn\\Lib\\site-packages\\numba\\cuda\\dispatcher.py:83\u001b[0m, in \u001b[0;36m_Kernel.__init__\u001b[1;34m(self, py_func, argtypes, link, debug, lineinfo, inline, fastmath, extensions, max_registers, opt, device)\u001b[0m\n\u001b[0;32m     77\u001b[0m nvvm_options \u001b[39m=\u001b[39m {\n\u001b[0;32m     78\u001b[0m     \u001b[39m'\u001b[39m\u001b[39mfastmath\u001b[39m\u001b[39m'\u001b[39m: fastmath,\n\u001b[0;32m     79\u001b[0m     \u001b[39m'\u001b[39m\u001b[39mopt\u001b[39m\u001b[39m'\u001b[39m: \u001b[39m3\u001b[39m \u001b[39mif\u001b[39;00m opt \u001b[39melse\u001b[39;00m \u001b[39m0\u001b[39m\n\u001b[0;32m     80\u001b[0m }\n\u001b[0;32m     82\u001b[0m cc \u001b[39m=\u001b[39m get_current_device()\u001b[39m.\u001b[39mcompute_capability\n\u001b[1;32m---> 83\u001b[0m cres \u001b[39m=\u001b[39m compile_cuda(\u001b[39mself\u001b[39m\u001b[39m.\u001b[39mpy_func, types\u001b[39m.\u001b[39mvoid, \u001b[39mself\u001b[39m\u001b[39m.\u001b[39margtypes,\n\u001b[0;32m     84\u001b[0m                     debug\u001b[39m=\u001b[39m\u001b[39mself\u001b[39m\u001b[39m.\u001b[39mdebug,\n\u001b[0;32m     85\u001b[0m                     lineinfo\u001b[39m=\u001b[39mlineinfo,\n\u001b[0;32m     86\u001b[0m                     inline\u001b[39m=\u001b[39minline,\n\u001b[0;32m     87\u001b[0m                     fastmath\u001b[39m=\u001b[39mfastmath,\n\u001b[0;32m     88\u001b[0m                     nvvm_options\u001b[39m=\u001b[39mnvvm_options,\n\u001b[0;32m     89\u001b[0m                     cc\u001b[39m=\u001b[39mcc)\n\u001b[0;32m     90\u001b[0m tgt_ctx \u001b[39m=\u001b[39m cres\u001b[39m.\u001b[39mtarget_context\n\u001b[0;32m     91\u001b[0m code \u001b[39m=\u001b[39m \u001b[39mself\u001b[39m\u001b[39m.\u001b[39mpy_func\u001b[39m.\u001b[39m\u001b[39m__code__\u001b[39m\n",
      "File \u001b[1;32md:\\Software\\Anaconda\\envs\\qnn\\Lib\\site-packages\\numba\\core\\compiler_lock.py:35\u001b[0m, in \u001b[0;36m_CompilerLock.__call__.<locals>._acquire_compile_lock\u001b[1;34m(*args, **kwargs)\u001b[0m\n\u001b[0;32m     32\u001b[0m \u001b[39m@functools\u001b[39m\u001b[39m.\u001b[39mwraps(func)\n\u001b[0;32m     33\u001b[0m \u001b[39mdef\u001b[39;00m \u001b[39m_acquire_compile_lock\u001b[39m(\u001b[39m*\u001b[39margs, \u001b[39m*\u001b[39m\u001b[39m*\u001b[39mkwargs):\n\u001b[0;32m     34\u001b[0m     \u001b[39mwith\u001b[39;00m \u001b[39mself\u001b[39m:\n\u001b[1;32m---> 35\u001b[0m         \u001b[39mreturn\u001b[39;00m func(\u001b[39m*\u001b[39margs, \u001b[39m*\u001b[39m\u001b[39m*\u001b[39mkwargs)\n",
      "File \u001b[1;32md:\\Software\\Anaconda\\envs\\qnn\\Lib\\site-packages\\numba\\cuda\\compiler.py:194\u001b[0m, in \u001b[0;36mcompile_cuda\u001b[1;34m(pyfunc, return_type, args, debug, lineinfo, inline, fastmath, nvvm_options, cc)\u001b[0m\n\u001b[0;32m    192\u001b[0m \u001b[39mfrom\u001b[39;00m \u001b[39mnumba\u001b[39;00m\u001b[39m.\u001b[39;00m\u001b[39mcore\u001b[39;00m\u001b[39m.\u001b[39;00m\u001b[39mtarget_extension\u001b[39;00m \u001b[39mimport\u001b[39;00m target_override\n\u001b[0;32m    193\u001b[0m \u001b[39mwith\u001b[39;00m target_override(\u001b[39m'\u001b[39m\u001b[39mcuda\u001b[39m\u001b[39m'\u001b[39m):\n\u001b[1;32m--> 194\u001b[0m     cres \u001b[39m=\u001b[39m compiler\u001b[39m.\u001b[39mcompile_extra(typingctx\u001b[39m=\u001b[39mtypingctx,\n\u001b[0;32m    195\u001b[0m                                   targetctx\u001b[39m=\u001b[39mtargetctx,\n\u001b[0;32m    196\u001b[0m                                   func\u001b[39m=\u001b[39mpyfunc,\n\u001b[0;32m    197\u001b[0m                                   args\u001b[39m=\u001b[39margs,\n\u001b[0;32m    198\u001b[0m                                   return_type\u001b[39m=\u001b[39mreturn_type,\n\u001b[0;32m    199\u001b[0m                                   flags\u001b[39m=\u001b[39mflags,\n\u001b[0;32m    200\u001b[0m                                   \u001b[39mlocals\u001b[39m\u001b[39m=\u001b[39m{},\n\u001b[0;32m    201\u001b[0m                                   pipeline_class\u001b[39m=\u001b[39mCUDACompiler)\n\u001b[0;32m    203\u001b[0m library \u001b[39m=\u001b[39m cres\u001b[39m.\u001b[39mlibrary\n\u001b[0;32m    204\u001b[0m library\u001b[39m.\u001b[39mfinalize()\n",
      "File \u001b[1;32md:\\Software\\Anaconda\\envs\\qnn\\Lib\\site-packages\\numba\\core\\compiler.py:770\u001b[0m, in \u001b[0;36mcompile_extra\u001b[1;34m(typingctx, targetctx, func, args, return_type, flags, locals, library, pipeline_class)\u001b[0m\n\u001b[0;32m    746\u001b[0m \u001b[39m\u001b[39m\u001b[39m\"\"\"Compiler entry point\u001b[39;00m\n\u001b[0;32m    747\u001b[0m \n\u001b[0;32m    748\u001b[0m \u001b[39mParameter\u001b[39;00m\n\u001b[1;32m   (...)\u001b[0m\n\u001b[0;32m    766\u001b[0m \u001b[39m    compiler pipeline\u001b[39;00m\n\u001b[0;32m    767\u001b[0m \u001b[39m\"\"\"\u001b[39;00m\n\u001b[0;32m    768\u001b[0m pipeline \u001b[39m=\u001b[39m pipeline_class(typingctx, targetctx, library,\n\u001b[0;32m    769\u001b[0m                           args, return_type, flags, \u001b[39mlocals\u001b[39m)\n\u001b[1;32m--> 770\u001b[0m \u001b[39mreturn\u001b[39;00m pipeline\u001b[39m.\u001b[39mcompile_extra(func)\n",
      "File \u001b[1;32md:\\Software\\Anaconda\\envs\\qnn\\Lib\\site-packages\\numba\\core\\compiler.py:461\u001b[0m, in \u001b[0;36mCompilerBase.compile_extra\u001b[1;34m(self, func)\u001b[0m\n\u001b[0;32m    459\u001b[0m \u001b[39mself\u001b[39m\u001b[39m.\u001b[39mstate\u001b[39m.\u001b[39mlifted \u001b[39m=\u001b[39m ()\n\u001b[0;32m    460\u001b[0m \u001b[39mself\u001b[39m\u001b[39m.\u001b[39mstate\u001b[39m.\u001b[39mlifted_from \u001b[39m=\u001b[39m \u001b[39mNone\u001b[39;00m\n\u001b[1;32m--> 461\u001b[0m \u001b[39mreturn\u001b[39;00m \u001b[39mself\u001b[39m\u001b[39m.\u001b[39m_compile_bytecode()\n",
      "File \u001b[1;32md:\\Software\\Anaconda\\envs\\qnn\\Lib\\site-packages\\numba\\core\\compiler.py:529\u001b[0m, in \u001b[0;36mCompilerBase._compile_bytecode\u001b[1;34m(self)\u001b[0m\n\u001b[0;32m    525\u001b[0m \u001b[39m\u001b[39m\u001b[39m\"\"\"\u001b[39;00m\n\u001b[0;32m    526\u001b[0m \u001b[39mPopulate and run pipeline for bytecode input\u001b[39;00m\n\u001b[0;32m    527\u001b[0m \u001b[39m\"\"\"\u001b[39;00m\n\u001b[0;32m    528\u001b[0m \u001b[39massert\u001b[39;00m \u001b[39mself\u001b[39m\u001b[39m.\u001b[39mstate\u001b[39m.\u001b[39mfunc_ir \u001b[39mis\u001b[39;00m \u001b[39mNone\u001b[39;00m\n\u001b[1;32m--> 529\u001b[0m \u001b[39mreturn\u001b[39;00m \u001b[39mself\u001b[39m\u001b[39m.\u001b[39m_compile_core()\n",
      "File \u001b[1;32md:\\Software\\Anaconda\\envs\\qnn\\Lib\\site-packages\\numba\\core\\compiler.py:508\u001b[0m, in \u001b[0;36mCompilerBase._compile_core\u001b[1;34m(self)\u001b[0m\n\u001b[0;32m    506\u001b[0m         \u001b[39mself\u001b[39m\u001b[39m.\u001b[39mstate\u001b[39m.\u001b[39mstatus\u001b[39m.\u001b[39mfail_reason \u001b[39m=\u001b[39m e\n\u001b[0;32m    507\u001b[0m         \u001b[39mif\u001b[39;00m is_final_pipeline:\n\u001b[1;32m--> 508\u001b[0m             \u001b[39mraise\u001b[39;00m e\n\u001b[0;32m    509\u001b[0m \u001b[39melse\u001b[39;00m:\n\u001b[0;32m    510\u001b[0m     \u001b[39mraise\u001b[39;00m CompilerError(\u001b[39m\"\u001b[39m\u001b[39mAll available pipelines exhausted\u001b[39m\u001b[39m\"\u001b[39m)\n",
      "File \u001b[1;32md:\\Software\\Anaconda\\envs\\qnn\\Lib\\site-packages\\numba\\core\\compiler.py:495\u001b[0m, in \u001b[0;36mCompilerBase._compile_core\u001b[1;34m(self)\u001b[0m\n\u001b[0;32m    493\u001b[0m res \u001b[39m=\u001b[39m \u001b[39mNone\u001b[39;00m\n\u001b[0;32m    494\u001b[0m \u001b[39mtry\u001b[39;00m:\n\u001b[1;32m--> 495\u001b[0m     pm\u001b[39m.\u001b[39mrun(\u001b[39mself\u001b[39m\u001b[39m.\u001b[39mstate)\n\u001b[0;32m    496\u001b[0m     \u001b[39mif\u001b[39;00m \u001b[39mself\u001b[39m\u001b[39m.\u001b[39mstate\u001b[39m.\u001b[39mcr \u001b[39mis\u001b[39;00m \u001b[39mnot\u001b[39;00m \u001b[39mNone\u001b[39;00m:\n\u001b[0;32m    497\u001b[0m         \u001b[39mbreak\u001b[39;00m\n",
      "File \u001b[1;32md:\\Software\\Anaconda\\envs\\qnn\\Lib\\site-packages\\numba\\core\\compiler_machinery.py:368\u001b[0m, in \u001b[0;36mPassManager.run\u001b[1;34m(self, state)\u001b[0m\n\u001b[0;32m    365\u001b[0m msg \u001b[39m=\u001b[39m \u001b[39m\"\u001b[39m\u001b[39mFailed in \u001b[39m\u001b[39m%s\u001b[39;00m\u001b[39m mode pipeline (step: \u001b[39m\u001b[39m%s\u001b[39;00m\u001b[39m)\u001b[39m\u001b[39m\"\u001b[39m \u001b[39m%\u001b[39m \\\n\u001b[0;32m    366\u001b[0m     (\u001b[39mself\u001b[39m\u001b[39m.\u001b[39mpipeline_name, pass_desc)\n\u001b[0;32m    367\u001b[0m patched_exception \u001b[39m=\u001b[39m \u001b[39mself\u001b[39m\u001b[39m.\u001b[39m_patch_error(msg, e)\n\u001b[1;32m--> 368\u001b[0m \u001b[39mraise\u001b[39;00m patched_exception\n",
      "File \u001b[1;32md:\\Software\\Anaconda\\envs\\qnn\\Lib\\site-packages\\numba\\core\\compiler_machinery.py:356\u001b[0m, in \u001b[0;36mPassManager.run\u001b[1;34m(self, state)\u001b[0m\n\u001b[0;32m    354\u001b[0m pass_inst \u001b[39m=\u001b[39m _pass_registry\u001b[39m.\u001b[39mget(pss)\u001b[39m.\u001b[39mpass_inst\n\u001b[0;32m    355\u001b[0m \u001b[39mif\u001b[39;00m \u001b[39misinstance\u001b[39m(pass_inst, CompilerPass):\n\u001b[1;32m--> 356\u001b[0m     \u001b[39mself\u001b[39m\u001b[39m.\u001b[39m_runPass(idx, pass_inst, state)\n\u001b[0;32m    357\u001b[0m \u001b[39melse\u001b[39;00m:\n\u001b[0;32m    358\u001b[0m     \u001b[39mraise\u001b[39;00m \u001b[39mBaseException\u001b[39;00m(\u001b[39m\"\u001b[39m\u001b[39mLegacy pass in use\u001b[39m\u001b[39m\"\u001b[39m)\n",
      "File \u001b[1;32md:\\Software\\Anaconda\\envs\\qnn\\Lib\\site-packages\\numba\\core\\compiler_lock.py:35\u001b[0m, in \u001b[0;36m_CompilerLock.__call__.<locals>._acquire_compile_lock\u001b[1;34m(*args, **kwargs)\u001b[0m\n\u001b[0;32m     32\u001b[0m \u001b[39m@functools\u001b[39m\u001b[39m.\u001b[39mwraps(func)\n\u001b[0;32m     33\u001b[0m \u001b[39mdef\u001b[39;00m \u001b[39m_acquire_compile_lock\u001b[39m(\u001b[39m*\u001b[39margs, \u001b[39m*\u001b[39m\u001b[39m*\u001b[39mkwargs):\n\u001b[0;32m     34\u001b[0m     \u001b[39mwith\u001b[39;00m \u001b[39mself\u001b[39m:\n\u001b[1;32m---> 35\u001b[0m         \u001b[39mreturn\u001b[39;00m func(\u001b[39m*\u001b[39margs, \u001b[39m*\u001b[39m\u001b[39m*\u001b[39mkwargs)\n",
      "File \u001b[1;32md:\\Software\\Anaconda\\envs\\qnn\\Lib\\site-packages\\numba\\core\\compiler_machinery.py:311\u001b[0m, in \u001b[0;36mPassManager._runPass\u001b[1;34m(self, index, pss, internal_state)\u001b[0m\n\u001b[0;32m    309\u001b[0m     mutated \u001b[39m|\u001b[39m\u001b[39m=\u001b[39m check(pss\u001b[39m.\u001b[39mrun_initialization, internal_state)\n\u001b[0;32m    310\u001b[0m \u001b[39mwith\u001b[39;00m SimpleTimer() \u001b[39mas\u001b[39;00m pass_time:\n\u001b[1;32m--> 311\u001b[0m     mutated \u001b[39m|\u001b[39m\u001b[39m=\u001b[39m check(pss\u001b[39m.\u001b[39mrun_pass, internal_state)\n\u001b[0;32m    312\u001b[0m \u001b[39mwith\u001b[39;00m SimpleTimer() \u001b[39mas\u001b[39;00m finalize_time:\n\u001b[0;32m    313\u001b[0m     mutated \u001b[39m|\u001b[39m\u001b[39m=\u001b[39m check(pss\u001b[39m.\u001b[39mrun_finalizer, internal_state)\n",
      "File \u001b[1;32md:\\Software\\Anaconda\\envs\\qnn\\Lib\\site-packages\\numba\\core\\compiler_machinery.py:273\u001b[0m, in \u001b[0;36mPassManager._runPass.<locals>.check\u001b[1;34m(func, compiler_state)\u001b[0m\n\u001b[0;32m    272\u001b[0m \u001b[39mdef\u001b[39;00m \u001b[39mcheck\u001b[39m(func, compiler_state):\n\u001b[1;32m--> 273\u001b[0m     mangled \u001b[39m=\u001b[39m func(compiler_state)\n\u001b[0;32m    274\u001b[0m     \u001b[39mif\u001b[39;00m mangled \u001b[39mnot\u001b[39;00m \u001b[39min\u001b[39;00m (\u001b[39mTrue\u001b[39;00m, \u001b[39mFalse\u001b[39;00m):\n\u001b[0;32m    275\u001b[0m         msg \u001b[39m=\u001b[39m (\u001b[39m\"\u001b[39m\u001b[39mCompilerPass implementations should return True/False. \u001b[39m\u001b[39m\"\u001b[39m\n\u001b[0;32m    276\u001b[0m                \u001b[39m\"\u001b[39m\u001b[39mCompilerPass with name \u001b[39m\u001b[39m'\u001b[39m\u001b[39m%s\u001b[39;00m\u001b[39m'\u001b[39m\u001b[39m did not.\u001b[39m\u001b[39m\"\u001b[39m)\n",
      "File \u001b[1;32md:\\Software\\Anaconda\\envs\\qnn\\Lib\\site-packages\\numba\\core\\typed_passes.py:110\u001b[0m, in \u001b[0;36mBaseTypeInference.run_pass\u001b[1;34m(self, state)\u001b[0m\n\u001b[0;32m    104\u001b[0m \u001b[39m\u001b[39m\u001b[39m\"\"\"\u001b[39;00m\n\u001b[0;32m    105\u001b[0m \u001b[39mType inference and legalization\u001b[39;00m\n\u001b[0;32m    106\u001b[0m \u001b[39m\"\"\"\u001b[39;00m\n\u001b[0;32m    107\u001b[0m \u001b[39mwith\u001b[39;00m fallback_context(state, \u001b[39m'\u001b[39m\u001b[39mFunction \u001b[39m\u001b[39m\"\u001b[39m\u001b[39m%s\u001b[39;00m\u001b[39m\"\u001b[39m\u001b[39m failed type inference\u001b[39m\u001b[39m'\u001b[39m\n\u001b[0;32m    108\u001b[0m                       \u001b[39m%\u001b[39m (state\u001b[39m.\u001b[39mfunc_id\u001b[39m.\u001b[39mfunc_name,)):\n\u001b[0;32m    109\u001b[0m     \u001b[39m# Type inference\u001b[39;00m\n\u001b[1;32m--> 110\u001b[0m     typemap, return_type, calltypes, errs \u001b[39m=\u001b[39m type_inference_stage(\n\u001b[0;32m    111\u001b[0m         state\u001b[39m.\u001b[39mtypingctx,\n\u001b[0;32m    112\u001b[0m         state\u001b[39m.\u001b[39mtargetctx,\n\u001b[0;32m    113\u001b[0m         state\u001b[39m.\u001b[39mfunc_ir,\n\u001b[0;32m    114\u001b[0m         state\u001b[39m.\u001b[39margs,\n\u001b[0;32m    115\u001b[0m         state\u001b[39m.\u001b[39mreturn_type,\n\u001b[0;32m    116\u001b[0m         state\u001b[39m.\u001b[39mlocals,\n\u001b[0;32m    117\u001b[0m         raise_errors\u001b[39m=\u001b[39m\u001b[39mself\u001b[39m\u001b[39m.\u001b[39m_raise_errors)\n\u001b[0;32m    118\u001b[0m     state\u001b[39m.\u001b[39mtypemap \u001b[39m=\u001b[39m typemap\n\u001b[0;32m    119\u001b[0m     \u001b[39m# save errors in case of partial typing\u001b[39;00m\n",
      "File \u001b[1;32md:\\Software\\Anaconda\\envs\\qnn\\Lib\\site-packages\\numba\\core\\typed_passes.py:91\u001b[0m, in \u001b[0;36mtype_inference_stage\u001b[1;34m(typingctx, targetctx, interp, args, return_type, locals, raise_errors)\u001b[0m\n\u001b[0;32m     89\u001b[0m     infer\u001b[39m.\u001b[39mbuild_constraint()\n\u001b[0;32m     90\u001b[0m     \u001b[39m# return errors in case of partial typing\u001b[39;00m\n\u001b[1;32m---> 91\u001b[0m     errs \u001b[39m=\u001b[39m infer\u001b[39m.\u001b[39mpropagate(raise_errors\u001b[39m=\u001b[39mraise_errors)\n\u001b[0;32m     92\u001b[0m     typemap, restype, calltypes \u001b[39m=\u001b[39m infer\u001b[39m.\u001b[39munify(raise_errors\u001b[39m=\u001b[39mraise_errors)\n\u001b[0;32m     94\u001b[0m \u001b[39mreturn\u001b[39;00m _TypingResults(typemap, restype, calltypes, errs)\n",
      "File \u001b[1;32md:\\Software\\Anaconda\\envs\\qnn\\Lib\\site-packages\\numba\\core\\typeinfer.py:1086\u001b[0m, in \u001b[0;36mTypeInferer.propagate\u001b[1;34m(self, raise_errors)\u001b[0m\n\u001b[0;32m   1083\u001b[0m force_lit_args \u001b[39m=\u001b[39m [e \u001b[39mfor\u001b[39;00m e \u001b[39min\u001b[39;00m errors\n\u001b[0;32m   1084\u001b[0m                   \u001b[39mif\u001b[39;00m \u001b[39misinstance\u001b[39m(e, ForceLiteralArg)]\n\u001b[0;32m   1085\u001b[0m \u001b[39mif\u001b[39;00m \u001b[39mnot\u001b[39;00m force_lit_args:\n\u001b[1;32m-> 1086\u001b[0m     \u001b[39mraise\u001b[39;00m errors[\u001b[39m0\u001b[39m]\n\u001b[0;32m   1087\u001b[0m \u001b[39melse\u001b[39;00m:\n\u001b[0;32m   1088\u001b[0m     \u001b[39mraise\u001b[39;00m reduce(operator\u001b[39m.\u001b[39mor_, force_lit_args)\n",
      "\u001b[1;31mTypingError\u001b[0m: Failed in cuda mode pipeline (step: nopython frontend)\n\u001b[1m\u001b[1m\u001b[1mNo implementation of function Function(<built-in function array>) found for signature:\n \n >>> array(list(int64)<iv=[8, 4, 2, 1]>, dtype=class(float32))\n \nThere are 2 candidate implementations:\n\u001b[1m   - Of which 2 did not match due to:\n   Overload in function 'impl_np_array': File: numba\\np\\arrayobj.py: Line 5384.\n     With argument(s): '(list(int64)<iv=None>, dtype=class(float32))':\u001b[0m\n\u001b[1m    Rejected as the implementation raised a specific error:\n      TypeError: Failed in cuda mode pipeline (step: fix up args)\n    Signature mismatch: 1 argument types given, but function takes 2 arguments\u001b[0m\n  raised from d:\\Software\\Anaconda\\envs\\qnn\\Lib\\site-packages\\numba\\core\\untyped_passes.py:125\n\u001b[0m\n\u001b[0m\u001b[1mDuring: resolving callee type: Function(<built-in function array>)\u001b[0m\n\u001b[0m\u001b[1mDuring: typing of call at C:\\Users\\WenKai\\AppData\\Local\\Temp\\ipykernel_12612\\3858807461.py (23)\n\u001b[0m\n\u001b[1m\nFile \"..\\..\\..\\AppData\\Local\\Temp\\ipykernel_12612\\3858807461.py\", line 23:\u001b[0m\n\u001b[1m<source missing, REPL/exec in use?>\u001b[0m\n"
     ]
    }
   ],
   "source": [
    "from numba import cuda\n",
    "import math\n",
    "from timeit import default_timer as time\n",
    "\n",
    "# @cuda.jit \n",
    "# def calculate_layer1_GPU(H_hat, y, output_layer1, length):\n",
    "#     pos = cuda.grid(1)\n",
    "#     if pos < length:\n",
    "#         output_layer1[pos] = pos\n",
    "\n",
    "\n",
    "# total_len = 2**(H.shape[1]*4)\n",
    "# threadsperblock = 128\n",
    "# blockspergrid = math.ceil(total_len/threadsperblock)\n",
    "# output1 = np.zeros(total_len)\n",
    "\n",
    "# # s = time()\n",
    "# %time calculate_layer1_GPU[blockspergrid, threadsperblock](H, y, output1, total_len)\n",
    "# # print(time()-s)\n",
    "\n",
    "@cuda.jit \n",
    "def qam16_modulation(binary_input):\n",
    "    x = np.array([8,4,2,1],dtype=np.float32)\n",
    "    index =  np.dot(binary_input, x)   \n",
    "    mapping = np.array([(1+1j),(1+3j),(3+1j),(3+3j),(1-1j),(1-3j),(3-1j),(3-3j),(-1+1j),(-1+3j),(-3+1j),(-3+3j),(-1-1j),(-1-3j),(-3-1j),(-3-3j)])\n",
    "    return mapping[np.round(index)]/np.sqrt(10)\n",
    "\n",
    "qam16_modulation[1,1](np.array([1,1,1,1],dtype=np.float32)) "
   ]
  },
  {
   "cell_type": "code",
   "execution_count": 167,
   "metadata": {},
   "outputs": [
    {
     "name": "stdout",
     "output_type": "stream",
     "text": [
      "[[100 100 100]\n",
      " [100 100 100]\n",
      " [100 100 100]]\n"
     ]
    },
    {
     "name": "stderr",
     "output_type": "stream",
     "text": [
      "d:\\Software\\Anaconda\\envs\\qnn\\Lib\\site-packages\\numba\\cuda\\dispatcher.py:536: NumbaPerformanceWarning: \u001b[1mGrid size 1 will likely result in GPU under-utilization due to low occupancy.\u001b[0m\n",
      "  warn(NumbaPerformanceWarning(msg))\n",
      "d:\\Software\\Anaconda\\envs\\qnn\\Lib\\site-packages\\numba\\cuda\\cudadrv\\devicearray.py:886: NumbaPerformanceWarning: \u001b[1mHost array used in CUDA kernel will incur copy overhead to/from device.\u001b[0m\n",
      "  warn(NumbaPerformanceWarning(msg))\n"
     ]
    }
   ],
   "source": [
    "from numba import jit, guvectorize, int32, int64, float64\n",
    "from numba import cuda\n",
    "import numpy as np\n",
    "import math\n",
    "\n",
    "@cuda.jit (device=True)\n",
    "def sub_stuff(vec_a, vec_b, result):\n",
    "    for i in range(vec_a.shape[0]):\n",
    "        result[i] = vec_a[i] - vec_b[i]\n",
    "\n",
    "@cuda.jit\n",
    "def kernel_via_polygon(vectors_a, vectors_b, result_array):\n",
    "    pos = cuda.grid(1)\n",
    "    if pos < vectors_a.size and pos < result_array.size:\n",
    "         sub_stuff(vectors_a[pos], vectors_b[pos], result_array[pos])\n",
    "\n",
    "vectors_a = 100 + np.arange(1, 10).reshape((3, 3))\n",
    "vectors_b = np.arange(1, 10).reshape((3, 3))\n",
    "result = np.zeros_like(vectors_a)\n",
    "\n",
    "kernel_via_polygon[1,10](vectors_a, vectors_b, result)\n",
    "\n",
    "print(result)"
   ]
  },
  {
   "cell_type": "code",
   "execution_count": 164,
   "metadata": {},
   "outputs": [
    {
     "data": {
      "text/plain": [
       "(4, 2)"
      ]
     },
     "execution_count": 164,
     "metadata": {},
     "output_type": "execute_result"
    }
   ],
   "source": [
    "H.shape"
   ]
  }
 ],
 "metadata": {
  "kernelspec": {
   "display_name": "py39",
   "language": "python",
   "name": "python3"
  },
  "language_info": {
   "codemirror_mode": {
    "name": "ipython",
    "version": 3
   },
   "file_extension": ".py",
   "mimetype": "text/x-python",
   "name": "python",
   "nbconvert_exporter": "python",
   "pygments_lexer": "ipython3",
   "version": "3.11.5"
  }
 },
 "nbformat": 4,
 "nbformat_minor": 2
}
