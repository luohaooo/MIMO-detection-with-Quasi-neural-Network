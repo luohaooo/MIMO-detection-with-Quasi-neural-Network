{
 "cells": [
  {
   "cell_type": "code",
   "execution_count": 58,
   "metadata": {},
   "outputs": [],
   "source": [
    "import numpy as np \n",
    "import random\n",
    "from scipy.optimize import minimize\n",
    "from sphere_decoding.sphereDecodingUseC import sphere_decoding_BER\n",
    "import matplotlib.pyplot as plt\n",
    "from timeit import default_timer as time\n",
    "\n",
    "# 不训练，直接用真实的\n",
    "\n",
    "\n",
    "Nt = 2\n",
    "Nr = 4\n",
    "\n",
    "iter_num = 30\n",
    "channel_list = np.load(\"channel_list_4_2.npy\")\n",
    "H_list = channel_list[0:iter_num]\n",
    "\n",
    "SNR_list = np.array([25])\n",
    "\n",
    "\n",
    "alpha = 0.1\n",
    "\n",
    "max_iter = 1000\n",
    "\n",
    "pilot_length = 128\n",
    "\n",
    "beta1 = 0\n",
    "\n",
    "SD_mean_performance = np.zeros(len(SNR_list))\n",
    "QNN_mean_performance_128 = np.zeros(len(SNR_list))\n",
    "\n",
    "save_loss = np.empty((len(SNR_list), iter_num))\n",
    "save_BER = np.empty((len(SNR_list), iter_num))\n",
    "save_channel = np.empty((len(SNR_list), iter_num, Nr, Nt), dtype=np.complex128)"
   ]
  },
  {
   "cell_type": "code",
   "execution_count": 56,
   "metadata": {},
   "outputs": [],
   "source": [
    "# generate signals for simulation\n",
    "def generate_random_bit_sequence(length):\n",
    "    return ''.join(random.choice('01') for _ in range(length))\n",
    "\n",
    "def qam16_modulation(binary_input):\n",
    "    mapping = {\n",
    "        '0000': (1+1j),\n",
    "        '0001': (1+3j),\n",
    "        '0010': (3+1j),\n",
    "        '0011': (3+3j),\n",
    "        '0100': (1-1j),\n",
    "        '0101': (1-3j),\n",
    "        '0110': (3-1j),\n",
    "        '0111': (3-3j),\n",
    "        '1000': (-1+1j),\n",
    "        '1001': (-1+3j),\n",
    "        '1010': (-3+1j),\n",
    "        '1011': (-3+3j),\n",
    "        '1100': (-1-1j),\n",
    "        '1101': (-1-3j),\n",
    "        '1110': (-3-1j),\n",
    "        '1111': (-3-3j)\n",
    "    }\n",
    "    return mapping.get(binary_input, \"Invalid binary input\")/np.sqrt(10)\n",
    "\n",
    "def generate_x_sequence(length, Nt):\n",
    "    total_bits_sequence = generate_random_bit_sequence(length*Nt*4)\n",
    "    bits_sequence = [total_bits_sequence[i:i+4] for i in range(0, len(total_bits_sequence), 4)]\n",
    "    x_sequence = [np.array([qam16_modulation(bits_sequence[i+j]) for j in range(Nt)]) for i in range(0, len(bits_sequence), Nt)]\n",
    "    return bits_sequence, x_sequence\n",
    "\n",
    "def generate_noise(SNR, Nr):\n",
    "    return np.sqrt(1/(2*SNR))*(np.random.randn(Nr,1)+1j*np.random.randn(Nr,1))\n",
    "\n",
    "def generate_data(Nr,Nt,SNR_dB,length,H_channel):\n",
    "    bits_sequence, x_sequence = generate_x_sequence(length, Nt)\n",
    "    SNR= 10**(SNR_dB/10)\n",
    "    n_sequence = [generate_noise(SNR, Nr) for i in range(length)]\n",
    "    y_sequence = [(np.dot(H_channel, x_sequence[i].reshape(Nt,1)) + n_sequence[i]) for i in range(length)]\n",
    "    return bits_sequence, x_sequence, y_sequence\n",
    "\n",
    "\n",
    "\n",
    "# training H_hat\n",
    "\n",
    "def bits2signals(bits):\n",
    "    # bits: input binary string with length of (4*Nt) \n",
    "    return np.array([qam16_modulation(bits[i:i+4]) for i in range(0, len(bits), 4)]).reshape(Nt,1)\n",
    "\n",
    "def calculate_layer1_training(H_hat, y):\n",
    "    dimension_layer1 = 2**(4*Nt)\n",
    "    # layer1 output\n",
    "    output = np.empty(dimension_layer1)\n",
    "    # calculate gradient components in layer1\n",
    "    gradients = np.zeros((dimension_layer1, Nr, Nt), dtype=np.complex128)\n",
    "    for index in range(dimension_layer1):\n",
    "        bits = str(bin(index)[2:].zfill(4*Nt))\n",
    "        s = bits2signals(bits)\n",
    "        # s_conjugate_transpose = s.conj().T\n",
    "        error = y - np.dot(H_hat,s)\n",
    "        value =  np.exp(-np.square(np.linalg.norm(error)))\n",
    "        output[index] = value\n",
    "        gradient_component = np.dot(error, s.conj().T)\n",
    "        gradients[index] = -value*(-gradient_component)\n",
    "    return output, gradients\n",
    "\n",
    "def layer2_matrix(n):\n",
    "    if n == 1:\n",
    "        return np.array([0,1])\n",
    "    else:\n",
    "        last_ = layer2_matrix(n-1)\n",
    "        half_cols_num = 2**(n-1)\n",
    "        first_row = np.concatenate((np.zeros(half_cols_num), np.ones(half_cols_num)))\n",
    "        remain_rows = np.hstack((last_, last_))\n",
    "        # print(remain_rows)\n",
    "        return np.vstack((first_row, remain_rows))\n",
    "\n",
    "\n",
    "def calculate_layer2_training(layer1_output, true_output):\n",
    "    total_prob = np.sum(layer1_output)\n",
    "    # print(total_prob)\n",
    "    A = layer2_matrix(4*Nt)\n",
    "    sum_prob_1 = np.dot(A, layer1_output)\n",
    "    # layer2 output\n",
    "    output = np.array([sum_prob_1[ii]/total_prob for ii in range(4*Nt)])\n",
    "    # calculate gradient components in layer2\n",
    "    gradients = np.zeros(2**(4*Nt))\n",
    "    for ii in range(len(gradients)):\n",
    "        for jj in range(4*Nt):\n",
    "            gradients[ii] += (-1/(4*Nt))*((true_output[jj]/output[jj])-((1-true_output[jj])/(1-output[jj])))*((A[jj][ii]/total_prob)-(sum_prob_1[jj]/np.square(total_prob)))\n",
    "    return output, gradients\n",
    "\n",
    "\n",
    "# def calculate_square_error(layer2_output, true_sequence):\n",
    "#     return np.linalg.norm(layer2_output-true_sequence)**2\n",
    "\n",
    "def calculate_cross_entropy(layer2_output, true_sequence):\n",
    "    epsilon = 1e-30  # 为了防止log(0)的情况，添加一个小的常数\n",
    "    layer2_output = np.clip(layer2_output, epsilon, 1. - epsilon)\n",
    "    cross_entropy = -np.mean(true_sequence * np.log(layer2_output) + (1 - true_sequence) * np.log(1 - layer2_output))\n",
    "    return cross_entropy\n",
    "\n",
    "\n",
    "def calculate_cost_function(H_hat):\n",
    "    total_loss = 0\n",
    "    total_gradients = np.zeros((Nr,Nt), dtype=np.complex128)\n",
    "    training_length = len(y_sequence)\n",
    "    for ii in range(training_length):\n",
    "        # print(ii)\n",
    "        true_sequence = ''.join(bits_sequence[ii*Nt+jj] for jj in range(Nt))\n",
    "        true_sequence = np.array([eval(ii) for ii in true_sequence])\n",
    "        layer1_output, layer1_gradients = calculate_layer1_training(H_hat, y_sequence[ii])\n",
    "        layer2_output, layer2_gradients = calculate_layer2_training(layer1_output, true_sequence)\n",
    "        total_loss += calculate_cross_entropy(layer2_output,true_sequence)\n",
    "        # SGD\n",
    "        if np.random.rand() < 0.9:\n",
    "            for jj in range(2**(4*Nt)):\n",
    "                total_gradients += (layer2_gradients[jj]*layer1_gradients[jj])\n",
    "    mean_loss = total_loss/training_length\n",
    "    return mean_loss, total_gradients\n",
    "\n",
    "\n",
    "def training(max_iter):\n",
    "    # H_hat = np.sqrt(1/2)*(np.random.randn(Nr,Nt)+1j*np.random.randn(Nr,Nt))\n",
    "    H_hat = np.copy(H_w)\n",
    "\n",
    "    mean_loss, total_gradients = calculate_cost_function(H_hat)\n",
    "    \n",
    "    return H_hat, mean_loss\n",
    "\n",
    "\n",
    "# testing QNN for detection\n",
    "def calculate_layer1_testing(H_hat, y):\n",
    "    dimension_layer1 = 2**(4*Nt)\n",
    "    # layer1 output\n",
    "    output = np.zeros(dimension_layer1)\n",
    "    for index in range(dimension_layer1):\n",
    "        bits = str(bin(index)[2:].zfill(4*Nt))\n",
    "        s = bits2signals(bits)\n",
    "        s_conjugate_transpose = s.conj().T\n",
    "        error = y - np.dot(H_hat,s)\n",
    "        value =  np.exp(-np.square(np.linalg.norm(error)))\n",
    "        output[index] = value\n",
    "    return output\n",
    "\n",
    "def calculate_layer2_testing(layer1_output):\n",
    "    total_prob = np.sum(layer1_output)\n",
    "    A = layer2_matrix(4*Nt)\n",
    "    sum_prob_1 = np.dot(A, layer1_output)\n",
    "    # layer2 output\n",
    "    output = (1/total_prob)*sum_prob_1\n",
    "    return output\n",
    "\n",
    "def detection(y, H_trained):\n",
    "    layer1_output = calculate_layer1_testing(H_trained, y)\n",
    "    layer2_output = calculate_layer2_testing(layer1_output)\n",
    "    detect_result = ''\n",
    "    for ii in range(len(layer2_output)):\n",
    "        if(layer2_output[ii]>0.5):\n",
    "            detect_result += '1'\n",
    "        else:\n",
    "            detect_result += '0'\n",
    "    return(detect_result)\n",
    "\n",
    "def count_differences(str1, str2):\n",
    "    return sum(a != b for a, b in zip(str1, str2))\n",
    "\n",
    "def calculate_BER(H_trained, bits_sequence_testing, y_sequence_testing):\n",
    "    error = 0\n",
    "    for ii in range(len(y_sequence_testing)):\n",
    "        detect_result = detection(y_sequence_testing[ii], H_trained)\n",
    "        true_sequence = ''.join(bits_sequence_testing[ii*Nt+jj] for jj in range(Nt))\n",
    "        error += count_differences(detect_result, true_sequence)\n",
    "    BER = error/(len(y_sequence_testing)*len(detect_result))\n",
    "    return BER"
   ]
  },
  {
   "cell_type": "code",
   "execution_count": 57,
   "metadata": {},
   "outputs": [
    {
     "name": "stdout",
     "output_type": "stream",
     "text": [
      "----------------------------current SNR_dB: 25\n",
      "----------------------------current iter num: 0\n",
      "SD: 0.0\n"
     ]
    },
    {
     "name": "stderr",
     "output_type": "stream",
     "text": [
      "C:\\Users\\WenKai\\AppData\\Local\\Temp\\ipykernel_16480\\1232459236.py:90: RuntimeWarning: divide by zero encountered in scalar divide\n",
      "  gradients[ii] += (-1/(4*Nt))*((true_output[jj]/output[jj])-((1-true_output[jj])/(1-output[jj])))*((A[jj][ii]/total_prob)-(sum_prob_1[jj]/np.square(total_prob)))\n",
      "C:\\Users\\WenKai\\AppData\\Local\\Temp\\ipykernel_16480\\1232459236.py:90: RuntimeWarning: invalid value encountered in scalar divide\n",
      "  gradients[ii] += (-1/(4*Nt))*((true_output[jj]/output[jj])-((1-true_output[jj])/(1-output[jj])))*((A[jj][ii]/total_prob)-(sum_prob_1[jj]/np.square(total_prob)))\n",
      "C:\\Users\\WenKai\\AppData\\Local\\Temp\\ipykernel_16480\\1232459236.py:100: RuntimeWarning: divide by zero encountered in log\n",
      "  cross_entropy = -np.mean(true_sequence * np.log(layer2_output) + (1 - true_sequence) * np.log(1 - layer2_output))\n",
      "C:\\Users\\WenKai\\AppData\\Local\\Temp\\ipykernel_16480\\1232459236.py:100: RuntimeWarning: invalid value encountered in multiply\n",
      "  cross_entropy = -np.mean(true_sequence * np.log(layer2_output) + (1 - true_sequence) * np.log(1 - layer2_output))\n",
      "C:\\Users\\WenKai\\AppData\\Local\\Temp\\ipykernel_16480\\1232459236.py:90: RuntimeWarning: invalid value encountered in scalar add\n",
      "  gradients[ii] += (-1/(4*Nt))*((true_output[jj]/output[jj])-((1-true_output[jj])/(1-output[jj])))*((A[jj][ii]/total_prob)-(sum_prob_1[jj]/np.square(total_prob)))\n"
     ]
    },
    {
     "ename": "KeyboardInterrupt",
     "evalue": "",
     "output_type": "error",
     "traceback": [
      "\u001b[1;31m---------------------------------------------------------------------------\u001b[0m",
      "\u001b[1;31mKeyboardInterrupt\u001b[0m                         Traceback (most recent call last)",
      "Cell \u001b[1;32mIn[57], line 25\u001b[0m\n\u001b[0;32m     22\u001b[0m save_channel[ii][jj] \u001b[38;5;241m=\u001b[39m H_trained\n\u001b[0;32m     23\u001b[0m save_loss[ii][jj] \u001b[38;5;241m=\u001b[39m loss\n\u001b[1;32m---> 25\u001b[0m BER \u001b[38;5;241m=\u001b[39m \u001b[43mcalculate_BER\u001b[49m\u001b[43m(\u001b[49m\u001b[43mH_trained\u001b[49m\u001b[43m,\u001b[49m\u001b[43m \u001b[49m\u001b[43mbits_sequence_testing\u001b[49m\u001b[43m,\u001b[49m\u001b[43m \u001b[49m\u001b[43my_sequence_testing\u001b[49m\u001b[43m)\u001b[49m\n\u001b[0;32m     27\u001b[0m save_BER[ii][jj] \u001b[38;5;241m=\u001b[39m BER\n\u001b[0;32m     29\u001b[0m QNN_performance_128[jj] \u001b[38;5;241m=\u001b[39m BER\n",
      "Cell \u001b[1;32mIn[56], line 172\u001b[0m, in \u001b[0;36mcalculate_BER\u001b[1;34m(H_trained, bits_sequence_testing, y_sequence_testing)\u001b[0m\n\u001b[0;32m    170\u001b[0m error \u001b[38;5;241m=\u001b[39m \u001b[38;5;241m0\u001b[39m\n\u001b[0;32m    171\u001b[0m \u001b[38;5;28;01mfor\u001b[39;00m ii \u001b[38;5;129;01min\u001b[39;00m \u001b[38;5;28mrange\u001b[39m(\u001b[38;5;28mlen\u001b[39m(y_sequence_testing)):\n\u001b[1;32m--> 172\u001b[0m     detect_result \u001b[38;5;241m=\u001b[39m \u001b[43mdetection\u001b[49m\u001b[43m(\u001b[49m\u001b[43my_sequence_testing\u001b[49m\u001b[43m[\u001b[49m\u001b[43mii\u001b[49m\u001b[43m]\u001b[49m\u001b[43m,\u001b[49m\u001b[43m \u001b[49m\u001b[43mH_trained\u001b[49m\u001b[43m)\u001b[49m\n\u001b[0;32m    173\u001b[0m     true_sequence \u001b[38;5;241m=\u001b[39m \u001b[38;5;124m'\u001b[39m\u001b[38;5;124m'\u001b[39m\u001b[38;5;241m.\u001b[39mjoin(bits_sequence_testing[ii\u001b[38;5;241m*\u001b[39mNt\u001b[38;5;241m+\u001b[39mjj] \u001b[38;5;28;01mfor\u001b[39;00m jj \u001b[38;5;129;01min\u001b[39;00m \u001b[38;5;28mrange\u001b[39m(Nt))\n\u001b[0;32m    174\u001b[0m     error \u001b[38;5;241m+\u001b[39m\u001b[38;5;241m=\u001b[39m count_differences(detect_result, true_sequence)\n",
      "Cell \u001b[1;32mIn[56], line 157\u001b[0m, in \u001b[0;36mdetection\u001b[1;34m(y, H_trained)\u001b[0m\n\u001b[0;32m    155\u001b[0m \u001b[38;5;28;01mdef\u001b[39;00m \u001b[38;5;21mdetection\u001b[39m(y, H_trained):\n\u001b[0;32m    156\u001b[0m     layer1_output \u001b[38;5;241m=\u001b[39m calculate_layer1_testing(H_trained, y)\n\u001b[1;32m--> 157\u001b[0m     layer2_output \u001b[38;5;241m=\u001b[39m \u001b[43mcalculate_layer2_testing\u001b[49m\u001b[43m(\u001b[49m\u001b[43mlayer1_output\u001b[49m\u001b[43m)\u001b[49m\n\u001b[0;32m    158\u001b[0m     detect_result \u001b[38;5;241m=\u001b[39m \u001b[38;5;124m'\u001b[39m\u001b[38;5;124m'\u001b[39m\n\u001b[0;32m    159\u001b[0m     \u001b[38;5;28;01mfor\u001b[39;00m ii \u001b[38;5;129;01min\u001b[39;00m \u001b[38;5;28mrange\u001b[39m(\u001b[38;5;28mlen\u001b[39m(layer2_output)):\n",
      "Cell \u001b[1;32mIn[56], line 149\u001b[0m, in \u001b[0;36mcalculate_layer2_testing\u001b[1;34m(layer1_output)\u001b[0m\n\u001b[0;32m    147\u001b[0m \u001b[38;5;28;01mdef\u001b[39;00m \u001b[38;5;21mcalculate_layer2_testing\u001b[39m(layer1_output):\n\u001b[0;32m    148\u001b[0m     total_prob \u001b[38;5;241m=\u001b[39m np\u001b[38;5;241m.\u001b[39msum(layer1_output)\n\u001b[1;32m--> 149\u001b[0m     A \u001b[38;5;241m=\u001b[39m \u001b[43mlayer2_matrix\u001b[49m\u001b[43m(\u001b[49m\u001b[38;5;241;43m4\u001b[39;49m\u001b[38;5;241;43m*\u001b[39;49m\u001b[43mNt\u001b[49m\u001b[43m)\u001b[49m\n\u001b[0;32m    150\u001b[0m     sum_prob_1 \u001b[38;5;241m=\u001b[39m np\u001b[38;5;241m.\u001b[39mdot(A, layer1_output)\n\u001b[0;32m    151\u001b[0m     \u001b[38;5;66;03m# layer2 output\u001b[39;00m\n",
      "Cell \u001b[1;32mIn[56], line 73\u001b[0m, in \u001b[0;36mlayer2_matrix\u001b[1;34m(n)\u001b[0m\n\u001b[0;32m     71\u001b[0m last_ \u001b[38;5;241m=\u001b[39m layer2_matrix(n\u001b[38;5;241m-\u001b[39m\u001b[38;5;241m1\u001b[39m)\n\u001b[0;32m     72\u001b[0m half_cols_num \u001b[38;5;241m=\u001b[39m \u001b[38;5;241m2\u001b[39m\u001b[38;5;241m*\u001b[39m\u001b[38;5;241m*\u001b[39m(n\u001b[38;5;241m-\u001b[39m\u001b[38;5;241m1\u001b[39m)\n\u001b[1;32m---> 73\u001b[0m first_row \u001b[38;5;241m=\u001b[39m np\u001b[38;5;241m.\u001b[39mconcatenate((\u001b[43mnp\u001b[49m\u001b[38;5;241;43m.\u001b[39;49m\u001b[43mzeros\u001b[49m\u001b[43m(\u001b[49m\u001b[43mhalf_cols_num\u001b[49m\u001b[43m)\u001b[49m, np\u001b[38;5;241m.\u001b[39mones(half_cols_num)))\n\u001b[0;32m     74\u001b[0m remain_rows \u001b[38;5;241m=\u001b[39m np\u001b[38;5;241m.\u001b[39mhstack((last_, last_))\n\u001b[0;32m     75\u001b[0m \u001b[38;5;66;03m# print(remain_rows)\u001b[39;00m\n",
      "\u001b[1;31mKeyboardInterrupt\u001b[0m: "
     ]
    }
   ],
   "source": [
    "for ii in range(len(SNR_list)):\n",
    "    SNR_dB = SNR_list[ii]\n",
    "    SNR = 10**(SNR_dB/10)\n",
    "    \n",
    "    SD_performance = np.zeros(iter_num)\n",
    "    QNN_performance_128 = np.zeros(iter_num)\n",
    "\n",
    "    for jj in range(iter_num):\n",
    "        print(\"----------------------------current SNR_dB: \" +str(SNR_dB))\n",
    "        print(\"----------------------------current iter num: \" +str(jj))\n",
    "\n",
    "        H = H_list[jj]\n",
    "\n",
    "        bits_sequence_testing, x_sequence_testing, y_sequence_testing = generate_data(Nr,Nt,SNR_dB,1024,H)\n",
    "        SD_performance[jj] = sphere_decoding_BER(H, y_sequence_testing, bits_sequence_testing, 10000)\n",
    "        print(\"SD: \"+str(SD_performance[jj]))\n",
    "\n",
    "        bits_sequence, x_sequence, y_sequence = generate_data(Nr,Nt,SNR_dB,pilot_length,H)\n",
    "        H_w = np.sqrt(SNR)*H\n",
    "        H_trained, loss = training(max_iter)\n",
    "\n",
    "        save_channel[ii][jj] = H_trained\n",
    "        save_loss[ii][jj] = loss\n",
    "        \n",
    "        BER = calculate_BER(H_trained, bits_sequence_testing, y_sequence_testing)\n",
    "\n",
    "        save_BER[ii][jj] = BER\n",
    "\n",
    "        QNN_performance_128[jj] = BER\n",
    "        print(\"QNN: \"+str(BER))\n",
    "\n",
    "    SD_mean_performance[ii] = np.mean(SD_performance)\n",
    "    QNN_mean_performance_128[ii] = np.mean(QNN_performance_128)"
   ]
  },
  {
   "cell_type": "code",
   "execution_count": 18,
   "metadata": {},
   "outputs": [],
   "source": [
    "H = H_list[14]\n",
    "bits_sequence_testing, x_sequence_testing, y_sequence_testing = generate_data(Nr,Nt,1000,1,H)"
   ]
  },
  {
   "cell_type": "code",
   "execution_count": 29,
   "metadata": {},
   "outputs": [
    {
     "data": {
      "text/plain": [
       "array([0.0242953 , 0.93197111, 0.67970909, 0.51107682, 0.07099044,\n",
       "       0.00510851, 0.49929745, 0.77968197])"
      ]
     },
     "execution_count": 29,
     "metadata": {},
     "output_type": "execute_result"
    }
   ],
   "source": [
    "# calculate_BER(H, bits_sequence_testing, y_sequence_testing)\n",
    "# detection(y_sequence_testing[0],H)\n",
    "\n",
    "\n",
    "layer1_output = calculate_layer1_testing(H, y_sequence_testing[0])\n",
    "layer2_output = calculate_layer2_testing(layer1_output)\n",
    "layer2_output"
   ]
  },
  {
   "cell_type": "code",
   "execution_count": 34,
   "metadata": {},
   "outputs": [
    {
     "data": {
      "text/plain": [
       "'01100011'"
      ]
     },
     "execution_count": 34,
     "metadata": {},
     "output_type": "execute_result"
    }
   ],
   "source": [
    "def calculate_max_log(a):\n",
    "    llr0 = -np.ones(4*Nt)\n",
    "    llr1 = -np.ones(4*Nt)\n",
    "    for index in range(len(a)):\n",
    "        bit_index = str(bin(index)[2:].zfill(4*Nt))\n",
    "        value = a[index]\n",
    "        for ii in range(4*Nt):\n",
    "            bit = bit_index[ii]\n",
    "            if bit == '0':\n",
    "                if value > llr0[ii]:\n",
    "                    llr0[ii] = value\n",
    "            if bit == '1':\n",
    "                if value > llr1[ii]:\n",
    "                    llr1[ii] = value\n",
    "    detect_result = ''\n",
    "    for ii in range(4*Nt):\n",
    "        if llr0[ii] - llr1[ii]>0:\n",
    "            detect_result += '0'\n",
    "        else:\n",
    "            detect_result += '1'\n",
    "    return detect_result\n",
    "\n",
    "calculate_max_log(layer1_output)"
   ]
  },
  {
   "cell_type": "code",
   "execution_count": 40,
   "metadata": {},
   "outputs": [
    {
     "name": "stdout",
     "output_type": "stream",
     "text": [
      "00000011:0.052666365677846216\n",
      "00100011:0.22949153726847138\n",
      "01000001:0.21421383401944574\n",
      "01000011:0.22949153726847155\n",
      "01010000:0.04588756668531062\n",
      "01010001:0.5138757703212791\n",
      "01010011:0.052666365677846216\n",
      "01011000:0.01544381569605611\n",
      "01011001:0.1729488674336531\n",
      "01100000:0.03449330360071895\n",
      "01100001:0.18572372923436287\n",
      "01100010:0.18572372923436287\n",
      "01100011:1.0\n",
      "01110000:0.415871214961619\n",
      "01110001:0.4455310968318939\n",
      "01110010:0.21421383401944566\n",
      "01110011:0.22949153726847138\n",
      "01110100:0.013389812370471621\n",
      "01111000:0.02784870463243727\n",
      "01111001:0.029834870685585452\n",
      "11000001:0.013012507217456712\n",
      "11010001:0.031215594458641537\n",
      "11011001:0.052801302418393016\n"
     ]
    }
   ],
   "source": [
    "for ii in range(len(layer1_output)):\n",
    "    value = layer1_output[ii]\n",
    "    if value>1e-2:\n",
    "        bits = str(bin(ii)[2:].zfill(4*Nt))\n",
    "        print(str(bits)+\":\"+str(value))"
   ]
  },
  {
   "cell_type": "code",
   "execution_count": 31,
   "metadata": {},
   "outputs": [
    {
     "data": {
      "text/plain": [
       "'01110001'"
      ]
     },
     "execution_count": 31,
     "metadata": {},
     "output_type": "execute_result"
    }
   ],
   "source": [
    "detection(y_sequence_testing[0], H)"
   ]
  },
  {
   "cell_type": "code",
   "execution_count": 35,
   "metadata": {},
   "outputs": [
    {
     "data": {
      "text/plain": [
       "['0110', '0011']"
      ]
     },
     "execution_count": 35,
     "metadata": {},
     "output_type": "execute_result"
    }
   ],
   "source": [
    "bits_sequence_testing"
   ]
  },
  {
   "cell_type": "code",
   "execution_count": 21,
   "metadata": {},
   "outputs": [
    {
     "data": {
      "text/plain": [
       "[array([[ 0.60166057+0.54721775j],\n",
       "        [-0.96600744-1.03119115j],\n",
       "        [ 0.65268247-1.96458789j],\n",
       "        [ 2.91572881+0.65512601j]])]"
      ]
     },
     "execution_count": 21,
     "metadata": {},
     "output_type": "execute_result"
    }
   ],
   "source": [
    "y_sequence_testing"
   ]
  },
  {
   "cell_type": "code",
   "execution_count": 46,
   "metadata": {},
   "outputs": [
    {
     "data": {
      "image/png": "[encoded data removed]",
      "text/plain": [
       "<Figure size 640x480 with 1 Axes>"
      ]
     },
     "metadata": {},
     "output_type": "display_data"
    }
   ],
   "source": [
    "import matplotlib.ticker as ticker\n",
    "\n",
    "\n",
    "fig = plt.figure()\n",
    "\n",
    "ax1 = fig.add_subplot(111)\n",
    "\n",
    "lns1 = ax1.plot(SNR_list, SD_mean_performance, '-ro', linewidth=2.0, label=\"Max-Log\")\n",
    "lns2 = ax1.plot(SNR_list, QNN_mean_performance_128, '-bo', linewidth=2.0, label=\"QNN Decoding\")\n",
    "\n",
    "\n",
    "\n",
    "lns = lns1+lns2\n",
    "labs = [l.get_label() for l in lns]\n",
    "ax1.legend(lns, labs, loc=\"lower left\")\n",
    "\n",
    "ax1.yaxis.set_minor_locator(ticker.LogLocator(base=10.0, subs='auto'))\n",
    "ax1.grid(which='major', linestyle='-', linewidth='0.5', color='black')\n",
    "ax1.grid(which='minor', linestyle=':', linewidth='0.5', color='gray')\n",
    "\n",
    "ax1.set_xticks(SNR_list)\n",
    "ax1.set_yscale(\"log\")\n",
    "ax1.set_adjustable(\"datalim\")\n",
    "ax1.set_xlim(-0.5,25.5)\n",
    "ax1.set_ylim(1e-5, 0.5)\n",
    "ax1.set_ylabel(\"BER\")\n",
    "ax1.set_xlabel(\"SNR(dB)\")\n",
    "plt.title(r\"4*2 MIMO, $\\hat{H}=H$\")\n",
    "\n",
    "# plt.savefig('BER.png',dpi=600, bbox_inches='tight')\n",
    "plt.show()"
   ]
  }
 ],
 "metadata": {
  "kernelspec": {
   "display_name": "newqnn",
   "language": "python",
   "name": "python3"
  },
  "language_info": {
   "codemirror_mode": {
    "name": "ipython",
    "version": 3
   },
   "file_extension": ".py",
   "mimetype": "text/x-python",
   "name": "python",
   "nbconvert_exporter": "python",
   "pygments_lexer": "ipython3",
   "version": "3.9.18"
  }
 },
 "nbformat": 4,
 "nbformat_minor": 2
}
