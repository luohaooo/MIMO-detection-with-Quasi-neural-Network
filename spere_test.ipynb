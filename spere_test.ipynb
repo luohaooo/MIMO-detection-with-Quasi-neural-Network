{
 "cells": [
  {
   "cell_type": "code",
   "execution_count": 2,
   "metadata": {},
   "outputs": [],
   "source": [
    "import numpy as np \n",
    "import random\n",
    "from scipy.optimize import minimize\n",
    "from sphere_decoding.sphereDecodingUseC import sphere_decoding_BER\n",
    "import matplotlib.pyplot as plt\n",
    "from timeit import default_timer as time\n",
    "\n",
    "# 交叉熵正常训练\n",
    "\n",
    "\n",
    "Nt = 2\n",
    "Nr = 4\n",
    "\n",
    "iter_num = 30\n",
    "channel_list = np.load(\"channel_list_4_2.npy\")\n",
    "H_list = channel_list[0:iter_num]\n",
    "\n",
    "SNR_list = np.array([0,5,10,15,20,25])\n",
    "\n",
    "SD_mean_performance = np.zeros(len(SNR_list))\n",
    "QNN_mean_performance_128 = np.zeros(len(SNR_list))\n"
   ]
  },
  {
   "cell_type": "code",
   "execution_count": 3,
   "metadata": {},
   "outputs": [],
   "source": [
    "def generate_random_bit_sequence(length):\n",
    "    return ''.join(random.choice('01') for _ in range(length))\n",
    "\n",
    "def qam16_modulation(binary_input):\n",
    "    mapping = {\n",
    "        '0000': (1+1j),\n",
    "        '0001': (1+3j),\n",
    "        '0010': (3+1j),\n",
    "        '0011': (3+3j),\n",
    "        '0100': (1-1j),\n",
    "        '0101': (1-3j),\n",
    "        '0110': (3-1j),\n",
    "        '0111': (3-3j),\n",
    "        '1000': (-1+1j),\n",
    "        '1001': (-1+3j),\n",
    "        '1010': (-3+1j),\n",
    "        '1011': (-3+3j),\n",
    "        '1100': (-1-1j),\n",
    "        '1101': (-1-3j),\n",
    "        '1110': (-3-1j),\n",
    "        '1111': (-3-3j)\n",
    "    }\n",
    "    return mapping.get(binary_input, \"Invalid binary input\")/np.sqrt(10)\n",
    "\n",
    "def generate_x_sequence(length, Nt):\n",
    "    total_bits_sequence = generate_random_bit_sequence(length*Nt*4)\n",
    "    bits_sequence = [total_bits_sequence[i:i+4] for i in range(0, len(total_bits_sequence), 4)]\n",
    "    x_sequence = [np.array([qam16_modulation(bits_sequence[i+j]) for j in range(Nt)]) for i in range(0, len(bits_sequence), Nt)]\n",
    "    return bits_sequence, x_sequence\n",
    "\n",
    "def generate_noise(SNR, Nr):\n",
    "    return np.sqrt(1/(2*SNR))*(np.random.randn(Nr,1)+1j*np.random.randn(Nr,1))\n",
    "\n",
    "# generate training and tesing data\n",
    "def generate_data(Nr,Nt,SNR_dB,length,H_channel):\n",
    "    bits_sequence, x_sequence = generate_x_sequence(length, Nt)\n",
    "    SNR= 10**(SNR_dB/10)\n",
    "    n_sequence = [generate_noise(SNR, Nr) for i in range(length)]\n",
    "    y_sequence = [np.dot(H_channel, x_sequence[i].reshape(Nt,1)) + n_sequence[i] for i in range(length)]\n",
    "    return bits_sequence, x_sequence, y_sequence"
   ]
  },
  {
   "cell_type": "code",
   "execution_count": null,
   "metadata": {},
   "outputs": [],
   "source": [
    "SD_mean_performance_20 = np.zeros(len(SNR_list))\n",
    "SD_mean_performance_5 = np.zeros(len(SNR_list))\n",
    "\n",
    "H_list = [np.sqrt(1/2)*(np.random.randn(Nr,Nt)+1j*np.random.randn(Nr,Nt)) for ii in range(iter_num)]\n",
    "\n",
    "for ii in range(len(SNR_list)):\n",
    "    SNR_dB = SNR_list[ii]\n",
    "    print(\"SNR_dB: \"+str(SNR_dB))\n",
    "    \n",
    "    SD_performance_20 = np.zeros(iter_num)\n",
    "    SD_performance_5 = np.zeros(iter_num)\n",
    "\n",
    "    for jj in range(iter_num):\n",
    "        # print(\"current iter num: \" +str(jj))\n",
    "        H = H_list[jj]\n",
    "        # print(H)\n",
    "        bits_sequence_testing, x_sequence_testing, y_sequence_testing = generate_data(Nr,Nt,SNR_dB,1024,H)\n",
    "        SD_performance_20[jj] = sphere_decoding_BER(H, y_sequence_testing, bits_sequence_testing, 20)\n",
    "        SD_performance_5[jj] = sphere_decoding_BER(H, y_sequence_testing, bits_sequence_testing, 0.1)\n",
    "\n",
    "    SD_mean_performance_20[ii] = np.mean(SD_performance_20)\n",
    "    SD_mean_performance_5[ii] = np.mean(SD_performance_5)"
   ]
  },
  {
   "cell_type": "code",
   "execution_count": 4,
   "metadata": {},
   "outputs": [
    {
     "data": {
      "text/plain": [
       "array([-0.53872493+1.53273072j, -0.78391856+1.24985144j])"
      ]
     },
     "execution_count": 4,
     "metadata": {},
     "output_type": "execute_result"
    }
   ],
   "source": [
    "import numpy as np\n",
    "\n",
    "def generate_complex_gaussian_noise(covariance_matrix):\n",
    "\n",
    "    Nt = covariance_matrix.shape[0]\n",
    "\n",
    "    # Generate real and imaginary parts independently, each with zero mean\n",
    "    real_part = np.random.multivariate_normal(np.zeros(Nt), covariance_matrix/2)\n",
    "    imag_part = np.random.multivariate_normal(np.zeros(Nt), covariance_matrix/2)\n",
    "\n",
    "    # Combine the real and imaginary parts to form the complex noise vector\n",
    "    complex_noise = real_part + 1j * imag_part\n",
    "\n",
    "    return complex_noise\n",
    "\n",
    "# Example usage\n",
    "cov_matrix = np.array([[2, 1], [1, 2]])  # Example covariance matrix\n",
    "noise_vector = generate_complex_gaussian_noise(cov_matrix)\n",
    "noise_vector\n",
    "\n"
   ]
  }
 ],
 "metadata": {
  "kernelspec": {
   "display_name": "py39",
   "language": "python",
   "name": "python3"
  },
  "language_info": {
   "codemirror_mode": {
    "name": "ipython",
    "version": 3
   },
   "file_extension": ".py",
   "mimetype": "text/x-python",
   "name": "python",
   "nbconvert_exporter": "python",
   "pygments_lexer": "ipython3",
   "version": "3.9.18"
  }
 },
 "nbformat": 4,
 "nbformat_minor": 2
}
