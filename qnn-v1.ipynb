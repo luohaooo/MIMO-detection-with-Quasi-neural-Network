{
 "cells": [
  {
   "cell_type": "code",
   "execution_count": 41,
   "metadata": {},
   "outputs": [
    {
     "data": {
      "text/plain": [
       "array([[-0.30019052-1.18811696j],\n",
       "       [ 2.27013503+0.29027076j],\n",
       "       [-1.79251126+1.38191129j],\n",
       "       [-1.40369124-1.9241893j ]])"
      ]
     },
     "execution_count": 41,
     "metadata": {},
     "output_type": "execute_result"
    }
   ],
   "source": [
    "import numpy as np \n",
    "import random\n",
    "\n",
    "# generate training and tesing data\n",
    "Nt = 2\n",
    "Nr = 4\n",
    "# generate channel\n",
    "H = np.sqrt(1/2)*(np.random.randn(Nr,Nt)+1j*np.random.randn(Nr,Nt))\n",
    "\n",
    "# generate transmit signal\n",
    "def generate_random_bit_sequence(length):\n",
    "    return ''.join(random.choice('01') for _ in range(length))\n",
    "\n",
    "def qam16_modulation(binary_input):\n",
    "    mapping = {\n",
    "        '0000': (-3-3j),\n",
    "        '0001': (-3-1j),\n",
    "        '0010': (-3+3j),\n",
    "        '0011': (-3+1j),\n",
    "        '0100': (-1-3j),\n",
    "        '0101': (-1-1j),\n",
    "        '0110': (-1+3j),\n",
    "        '0111': (-1+1j),\n",
    "        '1000': (3-3j),\n",
    "        '1001': (3-1j),\n",
    "        '1010': (3+3j),\n",
    "        '1011': (3+1j),\n",
    "        '1100': (1-3j),\n",
    "        '1101': (1-1j),\n",
    "        '1110': (1+3j),\n",
    "        '1111': (1+1j)\n",
    "    }\n",
    "    return mapping.get(binary_input, \"Invalid binary input\")/np.sqrt(10)\n",
    "\n",
    "def generate_x_sequence(length, Nt):\n",
    "    total_bits_sequence = generate_random_bit_sequence(length*Nt*4)\n",
    "    bits_sequence = [total_bits_sequence[i:i+4] for i in range(0, len(total_bits_sequence), 4)]\n",
    "    x_sequence = [np.array([qam16_modulation(bits_sequence[i]), qam16_modulation(bits_sequence[i+1])]) for i in range(0, len(bits_sequence), Nt)]\n",
    "    return bits_sequence, x_sequence\n",
    "\n",
    "# noise\n",
    "SNR_dB = 10\n",
    "SNR = 10.0**(SNR_dB/10.0)\n",
    "def generate_noise(SNR, Nr):\n",
    "    return np.sqrt(1/(2*SNR))*(np.random.randn(Nr,1)+1j*np.random.randn(Nr,1))\n",
    "\n",
    "# generate training and tesing data\n",
    "def generate_data(Nr,Nt,SNR,length,H_channel):\n",
    "    bits_sequence, x_sequence = generate_x_sequence(length, Nt)\n",
    "    n_sequence = [generate_noise(SNR, Nr) for i in range(length)]\n",
    "    y_sequence = [np.dot(H_channel, x_sequence[i].reshape(Nt,1)) + n_sequence[i] for i in range(length)]\n",
    "    return bits_sequence, x_sequence, y_sequence\n",
    "\n",
    "\n",
    "bits_sequence, x_sequence, y_sequence = generate_data(Nr,Nt,SNR,10,H)\n",
    "\n",
    "\n"
   ]
  },
  {
   "cell_type": "code",
   "execution_count": 36,
   "metadata": {},
   "outputs": [
    {
     "data": {
      "text/plain": [
       "array([[1],\n",
       "       [2],\n",
       "       [3],\n",
       "       [4],\n",
       "       [5]])"
      ]
     },
     "execution_count": 36,
     "metadata": {},
     "output_type": "execute_result"
    }
   ],
   "source": [
    "H_hat = H\n"
   ]
  },
  {
   "cell_type": "code",
   "execution_count": null,
   "metadata": {},
   "outputs": [],
   "source": [
    "def calculate_cost_function(parameters):\n",
    "    "
   ]
  }
 ],
 "metadata": {
  "kernelspec": {
   "display_name": "py39",
   "language": "python",
   "name": "python3"
  },
  "language_info": {
   "codemirror_mode": {
    "name": "ipython",
    "version": 3
   },
   "file_extension": ".py",
   "mimetype": "text/x-python",
   "name": "python",
   "nbconvert_exporter": "python",
   "pygments_lexer": "ipython3",
   "version": "3.9.18"
  }
 },
 "nbformat": 4,
 "nbformat_minor": 2
}
